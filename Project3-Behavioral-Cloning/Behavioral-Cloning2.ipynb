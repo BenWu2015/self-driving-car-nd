{
 "cells": [
  {
   "cell_type": "code",
   "execution_count": 1,
   "metadata": {
    "collapsed": false
   },
   "outputs": [
    {
     "name": "stdout",
     "output_type": "stream",
     "text": [
      "Populating the interactive namespace from numpy and matplotlib\n"
     ]
    }
   ],
   "source": [
    "%pylab inline\n",
    "import random\n",
    "import cv2\n",
    "import pandas as pd\n",
    "import os\n",
    "from glob import glob"
   ]
  },
  {
   "cell_type": "markdown",
   "metadata": {},
   "source": [
    "Steering angle distribution\n",
    "==========================="
   ]
  },
  {
   "cell_type": "code",
   "execution_count": 2,
   "metadata": {
    "collapsed": false
   },
   "outputs": [
    {
     "data": {
      "text/html": [
       "<div>\n",
       "<table border=\"1\" class=\"dataframe\">\n",
       "  <thead>\n",
       "    <tr style=\"text-align: right;\">\n",
       "      <th></th>\n",
       "      <th>center</th>\n",
       "      <th>left</th>\n",
       "      <th>right</th>\n",
       "      <th>steering</th>\n",
       "      <th>throttle</th>\n",
       "      <th>brake</th>\n",
       "      <th>speed</th>\n",
       "    </tr>\n",
       "  </thead>\n",
       "  <tbody>\n",
       "    <tr>\n",
       "      <th>0</th>\n",
       "      <td>IMG\\center_2016_12_01_13_30_48_287.jpg</td>\n",
       "      <td>IMG\\left_2016_12_01_13_30_48_287.jpg</td>\n",
       "      <td>IMG\\right_2016_12_01_13_30_48_287.jpg</td>\n",
       "      <td>0.0</td>\n",
       "      <td>0.0</td>\n",
       "      <td>0.0</td>\n",
       "      <td>22.148290</td>\n",
       "    </tr>\n",
       "    <tr>\n",
       "      <th>1</th>\n",
       "      <td>IMG\\center_2016_12_01_13_30_48_404.jpg</td>\n",
       "      <td>IMG\\left_2016_12_01_13_30_48_404.jpg</td>\n",
       "      <td>IMG\\right_2016_12_01_13_30_48_404.jpg</td>\n",
       "      <td>0.0</td>\n",
       "      <td>0.0</td>\n",
       "      <td>0.0</td>\n",
       "      <td>21.879630</td>\n",
       "    </tr>\n",
       "    <tr>\n",
       "      <th>2</th>\n",
       "      <td>IMG\\center_2016_12_01_13_31_12_937.jpg</td>\n",
       "      <td>IMG\\left_2016_12_01_13_31_12_937.jpg</td>\n",
       "      <td>IMG\\right_2016_12_01_13_31_12_937.jpg</td>\n",
       "      <td>0.0</td>\n",
       "      <td>0.0</td>\n",
       "      <td>0.0</td>\n",
       "      <td>1.453011</td>\n",
       "    </tr>\n",
       "    <tr>\n",
       "      <th>3</th>\n",
       "      <td>IMG\\center_2016_12_01_13_31_13_037.jpg</td>\n",
       "      <td>IMG\\left_2016_12_01_13_31_13_037.jpg</td>\n",
       "      <td>IMG\\right_2016_12_01_13_31_13_037.jpg</td>\n",
       "      <td>0.0</td>\n",
       "      <td>0.0</td>\n",
       "      <td>0.0</td>\n",
       "      <td>1.438419</td>\n",
       "    </tr>\n",
       "    <tr>\n",
       "      <th>4</th>\n",
       "      <td>IMG\\center_2016_12_01_13_31_13_177.jpg</td>\n",
       "      <td>IMG\\left_2016_12_01_13_31_13_177.jpg</td>\n",
       "      <td>IMG\\right_2016_12_01_13_31_13_177.jpg</td>\n",
       "      <td>0.0</td>\n",
       "      <td>0.0</td>\n",
       "      <td>0.0</td>\n",
       "      <td>1.418236</td>\n",
       "    </tr>\n",
       "  </tbody>\n",
       "</table>\n",
       "</div>"
      ],
      "text/plain": [
       "                                   center  \\\n",
       "0  IMG\\center_2016_12_01_13_30_48_287.jpg   \n",
       "1  IMG\\center_2016_12_01_13_30_48_404.jpg   \n",
       "2  IMG\\center_2016_12_01_13_31_12_937.jpg   \n",
       "3  IMG\\center_2016_12_01_13_31_13_037.jpg   \n",
       "4  IMG\\center_2016_12_01_13_31_13_177.jpg   \n",
       "\n",
       "                                    left  \\\n",
       "0   IMG\\left_2016_12_01_13_30_48_287.jpg   \n",
       "1   IMG\\left_2016_12_01_13_30_48_404.jpg   \n",
       "2   IMG\\left_2016_12_01_13_31_12_937.jpg   \n",
       "3   IMG\\left_2016_12_01_13_31_13_037.jpg   \n",
       "4   IMG\\left_2016_12_01_13_31_13_177.jpg   \n",
       "\n",
       "                                    right  steering  throttle  brake  \\\n",
       "0   IMG\\right_2016_12_01_13_30_48_287.jpg       0.0       0.0    0.0   \n",
       "1   IMG\\right_2016_12_01_13_30_48_404.jpg       0.0       0.0    0.0   \n",
       "2   IMG\\right_2016_12_01_13_31_12_937.jpg       0.0       0.0    0.0   \n",
       "3   IMG\\right_2016_12_01_13_31_13_037.jpg       0.0       0.0    0.0   \n",
       "4   IMG\\right_2016_12_01_13_31_13_177.jpg       0.0       0.0    0.0   \n",
       "\n",
       "       speed  \n",
       "0  22.148290  \n",
       "1  21.879630  \n",
       "2   1.453011  \n",
       "3   1.438419  \n",
       "4   1.418236  "
      ]
     },
     "execution_count": 2,
     "metadata": {},
     "output_type": "execute_result"
    }
   ],
   "source": [
    "dataDIR = './data'\n",
    "logFile = os.path.join(dataDIR, 'driving_log.csv')\n",
    "raw_data = pd.read_csv(logFile)\n",
    "raw_data.head()"
   ]
  },
  {
   "cell_type": "code",
   "execution_count": 3,
   "metadata": {
    "collapsed": false
   },
   "outputs": [
    {
     "name": "stdout",
     "output_type": "stream",
     "text": [
      "Number of images per camera in the log file: 13647\n"
     ]
    }
   ],
   "source": [
    "print('Number of images per camera in the log file: {}'.format(\n",
    "                                                    raw_data.shape[0]))"
   ]
  },
  {
   "cell_type": "code",
   "execution_count": 4,
   "metadata": {
    "collapsed": false
   },
   "outputs": [
    {
     "data": {
      "text/plain": [
       "count    13647.000000\n",
       "mean        -0.003444\n",
       "std          0.240027\n",
       "min         -1.000000\n",
       "25%          0.000000\n",
       "50%          0.000000\n",
       "75%          0.000000\n",
       "max          1.000000\n",
       "Name: steering, dtype: float64"
      ]
     },
     "execution_count": 4,
     "metadata": {},
     "output_type": "execute_result"
    }
   ],
   "source": [
    "raw_data['steering'].describe()"
   ]
  },
  {
   "cell_type": "markdown",
   "metadata": {},
   "source": [
    "The data is skewed towards small steering angles. Below is the histogram on linear scale and log scale to confirm this observation."
   ]
  },
  {
   "cell_type": "code",
   "execution_count": 13,
   "metadata": {
    "collapsed": false
   },
   "outputs": [
    {
     "data": {
      "image/png": "[encoded data removed]",
      "text/plain": [
       "<matplotlib.figure.Figure at 0x226d3227208>"
      ]
     },
     "metadata": {},
     "output_type": "display_data"
    }
   ],
   "source": [
    "fig, axes = plt.subplots(1, 2, figsize=(12, 2))\n",
    "for ax in axes:\n",
    "    ax.hist(raw_data['steering'], bins=25)\n",
    "    ax.set_xlabel('Steering angle')\n",
    "    ax.set_ylabel('Number of images')\n",
    "    \n",
    "axes[1].set_ylim([0.1, 10000])\n",
    "axes[1].set_yscale('log')\n",
    "axes[1].set_title('Log Scale')\n",
    "axes[0].set_title('Linear Scale')\n",
    "plt.show()"
   ]
  },
  {
   "cell_type": "markdown",
   "metadata": {},
   "source": [
    "Let's check if the images in the dataset are actually consistent with the information in the log file:"
   ]
  },
  {
   "cell_type": "code",
   "execution_count": 14,
   "metadata": {
    "collapsed": true
   },
   "outputs": [],
   "source": [
    "left_img_files = glob(os.path.join(dataDIR, 'IMG\\left*.jpg'))\n",
    "center_img_files = glob(os.path.join(dataDIR, 'IMG\\center*.jpg'))\n",
    "right_img_files = glob(os.path.join(dataDIR, 'IMG\\right*.jpg'))"
   ]
  },
  {
   "cell_type": "code",
   "execution_count": null,
   "metadata": {
    "collapsed": true
   },
   "outputs": [],
   "source": [
    "# Check if every shot has all the three camera angles and no images \n",
    "#are missing\n",
    "\n",
    "for center_file in center_img_files:\n",
    "    base_path, img_index = center_file.split('ce')"
   ]
  }
 ],
 "metadata": {
  "kernelspec": {
   "display_name": "Python [conda env:py3]",
   "language": "python",
   "name": "conda-env-py3-py"
  },
  "language_info": {
   "codemirror_mode": {
    "name": "ipython",
    "version": 3
   },
   "file_extension": ".py",
   "mimetype": "text/x-python",
   "name": "python",
   "nbconvert_exporter": "python",
   "pygments_lexer": "ipython3",
   "version": "3.5.2"
  }
 },
 "nbformat": 4,
 "nbformat_minor": 1
}
