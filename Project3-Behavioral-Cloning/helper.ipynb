{
 "cells": [
  {
   "cell_type": "code",
   "execution_count": 1,
   "metadata": {
    "collapsed": false
   },
   "outputs": [
    {
     "name": "stdout",
     "output_type": "stream",
     "text": [
      "Populating the interactive namespace from numpy and matplotlib\n"
     ]
    }
   ],
   "source": [
    "import errno\n",
    "import json\n",
    "import os\n",
    "\n",
    "import cv2\n",
    "%pylab inline\n",
    "\n",
    "import pandas as pd\n",
    "import scipy.misc\n",
    "from scipy.ndimage import rotate\n",
    "from scipy.stats import bernoulli\n",
    "\n",
    "import glob\n",
    "import math\n",
    "import matplotlib.gridspec as gridspec\n",
    "import random\n",
    "from scipy import ndimage\n",
    "import skimage"
   ]
  },
  {
   "cell_type": "code",
   "execution_count": 2,
   "metadata": {
    "collapsed": true
   },
   "outputs": [],
   "source": [
    "DRIVING_LOG_FILE = './data/driving_log.csv'\n",
    "IMG_PATH = './data/'\n",
    "STEERING_COEFFICIENT = 0.229"
   ]
  },
  {
   "cell_type": "markdown",
   "metadata": {},
   "source": [
    "Image Preprocessing:\n",
    "=============================================="
   ]
  },
  {
   "cell_type": "markdown",
   "metadata": {},
   "source": [
    "## Helper Function For Cropping image.\n"
   ]
  },
  {
   "cell_type": "code",
   "execution_count": 3,
   "metadata": {
    "collapsed": true
   },
   "outputs": [],
   "source": [
    "def crop(image, top_percent, bottom_percent):\n",
    "    \"\"\"\n",
    "    Function crops an image according to the given parameters.\n",
    "    \n",
    "    Args:\n",
    "    - Image: source image\n",
    "    - top_percent: The percentage of the original image will be croppped from the\n",
    "                    top of the image.\n",
    "    - bottom_percent: The percentage of the original image will be cropped from the \n",
    "                      bottom of the image\n",
    "                      \n",
    "    Return:\n",
    "    - Cropped image\n",
    "    \n",
    "    \"\"\"\n",
    "    \n",
    "    assert 0 <= top_percent < 0.5, 'top percent should be between 0.0 and 0.5'\n",
    "    assert 0 <= bottom_percent < 0.5, 'top_percent should be between 0.0 and 0.5'\n",
    "    \n",
    "    top = int(np.ceil(image.shape[0] * top_percent))\n",
    "    bottom = image.shape[0] - int(np.ceil(image.shape[0] * bottom_percent))\n",
    "    \n",
    "    return image[top:bottom, :]"
   ]
  },
  {
   "cell_type": "markdown",
   "metadata": {},
   "source": [
    "## Helper function for Resizing image."
   ]
  },
  {
   "cell_type": "code",
   "execution_count": 4,
   "metadata": {
    "collapsed": true
   },
   "outputs": [],
   "source": [
    "def resize(image, new_dim):\n",
    "    \"\"\"\n",
    "    Resize a given image according to the new dimension\n",
    "    Args:\n",
    "    - image: source image\n",
    "    - new_dim: A tuple which represents the resize dimension\n",
    "    \n",
    "    Return:\n",
    "    - Resized image\n",
    "    \"\"\"\n",
    "   \n",
    "    return scipy.misc.imresize(image, new_dim)\n"
   ]
  },
  {
   "cell_type": "markdown",
   "metadata": {},
   "source": [
    "## Helper function for Random flipping of image"
   ]
  },
  {
   "cell_type": "code",
   "execution_count": 5,
   "metadata": {
    "collapsed": true
   },
   "outputs": [],
   "source": [
    "def random_flip(image, steering_angle, flipping_prob=0.5):\n",
    "    \"\"\"\n",
    "    Based on a random coin tossing, the image is flipped.\n",
    "    If flipping is applied, the steering angle is negated.\n",
    "    \n",
    "    Args:\n",
    "    - image: source image\n",
    "    - steering_angle: Original steering angle\n",
    "    \n",
    "    Return:\n",
    "    - Both flipped image and new steering angle\n",
    "    \"\"\"\n",
    "    \n",
    "    head = bernoulli.rvs(flipping_prob)\n",
    "    \n",
    "    if head:\n",
    "        return np.flipr(image), -1 * steering_angle\n",
    "    else:\n",
    "        return image, steering_angle"
   ]
  }
 ],
 "metadata": {
  "anaconda-cloud": {},
  "kernelspec": {
   "display_name": "Python [conda env:py3]",
   "language": "python",
   "name": "conda-env-py3-py"
  },
  "language_info": {
   "codemirror_mode": {
    "name": "ipython",
    "version": 3
   },
   "file_extension": ".py",
   "mimetype": "text/x-python",
   "name": "python",
   "nbconvert_exporter": "python",
   "pygments_lexer": "ipython3",
   "version": "3.5.2"
  }
 },
 "nbformat": 4,
 "nbformat_minor": 1
}
