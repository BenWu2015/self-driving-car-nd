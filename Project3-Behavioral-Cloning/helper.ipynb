{
 "cells": [
  {
   "cell_type": "markdown",
   "metadata": {},
   "source": [
    "1. The Model\n",
    "=================\n"
   ]
  },
  {
   "cell_type": "code",
   "execution_count": 48,
   "metadata": {
    "collapsed": false
   },
   "outputs": [
    {
     "name": "stderr",
     "output_type": "stream",
     "text": [
      "Using TensorFlow backend.\n"
     ]
    }
   ],
   "source": [
    "import tensorflow as tf\n",
    "from keras.layers import Dense, Flatten, Lambda, Activation, MaxPooling2D\n",
    "from keras.layers.convolutional import Convolution2D\n",
    "from keras.models import Sequential\n",
    "from keras.optimizers import Adam"
   ]
  },
  {
   "cell_type": "code",
   "execution_count": 50,
   "metadata": {
    "collapsed": false
   },
   "outputs": [],
   "source": [
    "tf.python.control_flow_ops = tf"
   ]
  },
  {
   "cell_type": "code",
   "execution_count": null,
   "metadata": {
    "collapsed": true
   },
   "outputs": [],
   "source": [
    "number of "
   ]
  },
  {
   "cell_type": "code",
   "execution_count": 49,
   "metadata": {
    "collapsed": true
   },
   "outputs": [
    {
     "name": "stdout",
     "output_type": "stream",
     "text": [
      "Populating the interactive namespace from numpy and matplotlib\n"
     ]
    },
    {
     "name": "stderr",
     "output_type": "stream",
     "text": [
      "C:\\Users\\qubit\\Anaconda2\\envs\\py3\\lib\\site-packages\\IPython\\core\\magics\\pylab.py:161: UserWarning: pylab import has clobbered these variables: ['random']\n",
      "`%matplotlib` prevents importing * from pylab and numpy\n",
      "  \"\\n`%matplotlib` prevents importing * from pylab and numpy\"\n"
     ]
    }
   ],
   "source": [
    "import errno\n",
    "import json\n",
    "import os\n",
    "\n",
    "import cv2\n",
    "%pylab inline\n",
    "\n",
    "import pandas as pd\n",
    "import scipy.misc\n",
    "from scipy.ndimage import rotate\n",
    "from scipy.stats import bernoulli\n",
    "from scipy import signal\n",
    "\n",
    "import glob\n",
    "import math\n",
    "import matplotlib.gridspec as gridspec\n",
    "import random\n",
    "from scipy import ndimage\n",
    "import skimage"
   ]
  },
  {
   "cell_type": "code",
   "execution_count": 2,
   "metadata": {
    "collapsed": true
   },
   "outputs": [],
   "source": [
    "DRIVING_LOG_FILE = './data/driving_log.csv'\n",
    "IMG_PATH = './data/'\n",
    "STEERING_COEFFICIENT = 0.229"
   ]
  },
  {
   "cell_type": "markdown",
   "metadata": {},
   "source": [
    "Image Preprocessing:\n",
    "=============================================="
   ]
  },
  {
   "cell_type": "markdown",
   "metadata": {},
   "source": [
    "## Helper Function For Cropping image.\n"
   ]
  },
  {
   "cell_type": "code",
   "execution_count": 3,
   "metadata": {
    "collapsed": true
   },
   "outputs": [],
   "source": [
    "def crop(image, top_percent, bottom_percent):\n",
    "    \"\"\"\n",
    "    Function crops an image according to the given parameters.\n",
    "    \n",
    "    Args:\n",
    "    - Image: source image\n",
    "    - top_percent: The percentage of the original image will be croppped from the\n",
    "                    top of the image.\n",
    "    - bottom_percent: The percentage of the original image will be cropped from the \n",
    "                      bottom of the image\n",
    "                      \n",
    "    Return:\n",
    "    - Cropped image\n",
    "    \n",
    "    \"\"\"\n",
    "    \n",
    "    assert 0 <= top_percent < 0.5, 'top percent should be between 0.0 and 0.5'\n",
    "    assert 0 <= bottom_percent < 0.5, 'top_percent should be between 0.0 and 0.5'\n",
    "    \n",
    "    top = int(np.ceil(image.shape[0] * top_percent))\n",
    "    bottom = image.shape[0] - int(np.ceil(image.shape[0] * bottom_percent))\n",
    "    \n",
    "    return image[top:bottom, :]"
   ]
  },
  {
   "cell_type": "markdown",
   "metadata": {},
   "source": [
    "## Helper function for Resizing image."
   ]
  },
  {
   "cell_type": "code",
   "execution_count": 4,
   "metadata": {
    "collapsed": true
   },
   "outputs": [],
   "source": [
    "def resize(image, new_dim):\n",
    "    \"\"\"\n",
    "    Resize a given image according to the new dimension\n",
    "    Args:\n",
    "    - image: source image\n",
    "    - new_dim: A tuple which represents the resize dimension\n",
    "    \n",
    "    Return:\n",
    "    - Resized image\n",
    "    \"\"\"\n",
    "   \n",
    "    return scipy.misc.imresize(image, new_dim)\n"
   ]
  },
  {
   "cell_type": "markdown",
   "metadata": {},
   "source": [
    "## Helper function for Random flipping of image"
   ]
  },
  {
   "cell_type": "code",
   "execution_count": 5,
   "metadata": {
    "collapsed": true
   },
   "outputs": [],
   "source": [
    "def random_flip(image, steering_angle, flipping_prob=0.5):\n",
    "    \"\"\"\n",
    "    Based on a random coin tossing, the image is flipped.\n",
    "    If flipping is applied, the steering angle is negated.\n",
    "    \n",
    "    Args:\n",
    "    - image: source image\n",
    "    - steering_angle: Original steering angle\n",
    "    \n",
    "    Return:\n",
    "    - Both flipped image and new steering angle\n",
    "    \"\"\"\n",
    "    \n",
    "    head = bernoulli.rvs(flipping_prob)\n",
    "    \n",
    "    if head:\n",
    "        return np.flipr(image), -1 * steering_angle\n",
    "    else:\n",
    "        return image, steering_angle"
   ]
  },
  {
   "cell_type": "code",
   "execution_count": 51,
   "metadata": {
    "collapsed": true
   },
   "outputs": [],
   "source": [
    "def random_gamma(image):\n",
    "    \"\"\"\n",
    "    Random gamma correction is used as an alternative method changing\n",
    "    the brightness of training images.\n",
    "    \n",
    "    Args:\n",
    "    - image: source image\n",
    "    \n",
    "    Return:\n",
    "    - New image generated by applying gamma correction to the source image \n",
    "    \n",
    "    \"\"\"\n",
    "    \n",
    "    gamma = np.random.uniform(0.4, 1.5)\n",
    "    inv_gamma = 1.0 / gamma\n",
    "    table = np.array([(( i / 255.0) ** inv_gamma) * 255\n",
    "                     for i in np.arange(0,256)]).astype(\"uint8\")\n",
    "    \n",
    "    # apply gamma correction using the lookup table\n",
    "    return cv2.LUT(image, table)\n"
   ]
  },
  {
   "cell_type": "code",
   "execution_count": 2,
   "metadata": {
    "collapsed": true
   },
   "outputs": [],
   "source": [
    "def random_shear(image, steering_angle, shear_range=200):"
   ]
  },
  {
   "cell_type": "code",
   "execution_count": 3,
   "metadata": {
    "collapsed": true
   },
   "outputs": [],
   "source": []
  },
  {
   "cell_type": "code",
   "execution_count": null,
   "metadata": {
    "collapsed": true
   },
   "outputs": [],
   "source": []
  }
 ],
 "metadata": {
  "anaconda-cloud": {},
  "kernelspec": {
   "display_name": "Python [conda env:py3]",
   "language": "python",
   "name": "conda-env-py3-py"
  },
  "language_info": {
   "codemirror_mode": {
    "name": "ipython",
    "version": 3
   },
   "file_extension": ".py",
   "mimetype": "text/x-python",
   "name": "python",
   "nbconvert_exporter": "python",
   "pygments_lexer": "ipython3",
   "version": "3.5.2"
  }
 },
 "nbformat": 4,
 "nbformat_minor": 1
}
