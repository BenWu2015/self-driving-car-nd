{
 "cells": [
  {
   "cell_type": "markdown",
   "metadata": {},
   "source": [
    "Advanced Lane Finding\n",
    "===========================\n",
    "\n",
    "## Computer Vision & Robotics\n",
    "\n",
    "Robotics can essentially be broken down into a three step cycle:\n",
    "- Sense or perceive the world.\n",
    "- Decide what to do based on that perception.\n",
    "- Perform an action to carry out that decision.\n",
    "\n",
    "Computer vision is a major part of the perception step in that cycle.\n",
    "Computer vision is the art and science of perceiving and understanding the world around you through images. \n",
    "\n",
    "In the case of self-driving cars, computer vision helps us:\n",
    "- detect lane markings, vehicles, pedestrians, and other elements in the environment.\n",
    "- Navigate safely.\n",
    "\n",
    "The main focus of this topic is:\n",
    "- advanced lane-finding\n",
    "- vehicle detection and tracking\n",
    "\n",
    "### Getting Started with Camera Calibration\n",
    "\n",
    "For example: to steer a car:\n",
    "- You need to measure how much your lane is curving.\n",
    "- You need to get perspective transformation from front view to birds-eye view.\n",
    "- Correct for effect of image distortion.\n",
    " - Changes shape and size of objects.\n",
    " \n",
    " \n",
    "#### Distrortion\n",
    "\n",
    "<img src=\"18-1.png\">\n",
    "Image distortion occurs when a camera looks at 3D objects in the real world and transforms them into a 2D image; this transformation isn’t perfect. Distortion actually changes what the shape and size of these 3D objects appear to be. So, the first step in analyzing camera images, is to undo this distortion so that you can get correct and useful information out of them.\n",
    "\n",
    "Today’s cheap pinhole cameras introduces a lot of distortion to images. \n",
    "Two major distortions are:\n",
    "- radial distortion and \n",
    "- tangential distortion.\n",
    "\n",
    "\n",
    "**Radial distortion:**\n",
    "Real cameras use curved lenses to form an image, and light rays often bend a little too much or too little at the edges of these lenses. This creates an effect that distorts the edges of images, so that lines or objects appear more or less curved than they actually are. This is called radial distortion, and it’s the most common type of distortion.\n",
    "- Fisheye lenses use radial distortion for a stylistic effect.\n",
    "<img src=\"18-2.PNG\">\n",
    "\n",
    "\n",
    "\n",
    "**Tangential distortion:**\n",
    "This occurs when a camera’s lens is not aligned perfectly parallel to the imaging plane, where the camera film or sensor is. This makes an image look tilted so that some objects appear farther away or closer than they actually are.\n",
    "<img src=\"18-3.PNG\">\n",
    "\n",
    "\n",
    "#### Distortion Coefficients and Correction\n",
    "There are three coefficients needed to correct for **radial distortion: k1, k2, and k3**. To correct the appearance of radially distorted points in an image, one can use a correction formula:\n",
    "\n",
    "$$x_{corrected} = x(1+k_1r^2+k_2r^4+k_3r^6)$$\n",
    "$$y_{corrected} = y(1+k_1r^2+k_2r^4+k_3r^6)$$\n",
    "\n",
    "$(x,y)$ is a point in a distorted image.  To undistort these points, OpenCV calculates r, which is the known distance between a point in an undistorted (corrected) image.\n",
    "\n",
    "$$r=\\left \\| (x_{corrected}, y_{corrected})- (x_c, y_c) \\right \\|$$\n",
    "\n",
    "where $(x_c, y_c)$ is the **distortion center**, the center of the image distortion. \n",
    "<img src=\"18-4.png\">\n",
    "\n",
    "----------------------------------\n",
    "\n",
    "There are two more coefficients that account for **tangential distortion: p1 and p2**, and this distortion can be corrected using a different correction formula:\n",
    "$$x_{corrected} = x + [2p_1xy + p_2(r^2 + 2x^2)]$$\n",
    "$$y_{corrected} = y + [p_1(r^2+2y^2)+2p_2xy]$$\n",
    "\n",
    "In short, we need to find five parameters, known as distortion coefficients given by:\n",
    "$$\\text{Distortion coefficient} = (k_1, k_2, p_1, p_2, k_3)$$"
   ]
  },
  {
   "cell_type": "code",
   "execution_count": null,
   "metadata": {
    "collapsed": true
   },
   "outputs": [],
   "source": []
  },
  {
   "cell_type": "code",
   "execution_count": null,
   "metadata": {
    "collapsed": true
   },
   "outputs": [],
   "source": []
  }
 ],
 "metadata": {
  "kernelspec": {
   "display_name": "Python [conda env:py3]",
   "language": "python",
   "name": "conda-env-py3-py"
  },
  "language_info": {
   "codemirror_mode": {
    "name": "ipython",
    "version": 3
   },
   "file_extension": ".py",
   "mimetype": "text/x-python",
   "name": "python",
   "nbconvert_exporter": "python",
   "pygments_lexer": "ipython3",
   "version": "3.5.2"
  }
 },
 "nbformat": 4,
 "nbformat_minor": 1
}
