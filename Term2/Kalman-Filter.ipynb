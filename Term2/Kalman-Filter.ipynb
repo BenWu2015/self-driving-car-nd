{
 "cells": [
  {
   "cell_type": "markdown",
   "metadata": {},
   "source": [
    "# Introduction\n",
    "Kalman filtering is used for many applications including:\n",
    "- filtering noisy signals\n",
    "- generating non-observable states\n",
    "- and predicting future states\n",
    "\n",
    "**Filtering noisy signals** is essential since many sensors have an output that is noisy to be used directly, and Kalman filtering lets you account for the uncertainty in the signal/state.\n",
    "\n",
    "One important use of generating non-observable states is for estimating velocity. It is common to have position sensors (encoders) on different joints; however, simply differentiation the position to get velocity produces noisy results. To fix this Kalman filtering can be used to estimate the velocity. \n",
    "\n",
    "Another nice feature of the Kalman filter is that it can be used to predict future states. This is useful when you have large time delays in your sensor feedback as this can cause instability in a motor control system.\n",
    "\n",
    "\n",
    "Kalman filters produce the optimal estimate for a linear system. As such, a sensor or system must have(or be close to) a linear response in order to apply a Kalman filter. Techniques for working with non-linear sytems will be discussed later.\n",
    "\n",
    "Another benefit of the Kalman filter is that knowledge of a long state history is not necessary since the filter only relies on the immediate last state and a covariance matrix that defines the probability of the state being correct\n",
    "\n",
    "Note: A covariance is just a measure of how two variables correlate with each other(i.e change in relation to each other) (the values are not intuitive), and a covariance matrix just tells you for given row and column value what the covariance is.\n",
    "\n",
    "\n",
    "# The Filter\n",
    "\n",
    "some terminology:\n",
    "\n",
    "- **States** refer to the position/velocity/value associated with the system.\n",
    "- **Actions or Inputs** are the items that you can change that will affect the system. E.g: Increasing the voltage of a motor(to increase the output speed).\n",
    "\n",
    "There are **two types of equations** for the Kalman Filter.\n",
    "1. The first are the prediction equations: these equations predict what the current state is based on the previous state and the commanded action\n",
    "2. The second set of equations known as the **update equations** look at \n",
    "  - your input sensors, \n",
    "  - how much you trust each sensor, and \n",
    "  - how much you trust your overall state estimate. This filter works by predicting the current state using the prediction equations followed by checking how good of a job it did predicting by using the update equations. This process is repeated continuously to update teh current state.\n",
    "\n",
    "![](http://i0.wp.com/robotsforroboticists.com/wordpress/wp-content/uploads/2014/01/kalmanEquationFlow.png)\n",
    "\n",
    "\n",
    "## Prediction Equations\n",
    "$$X = Ax_{k-1} + Bu_{k-1}$$\n",
    "$$p = APA^T + Q$$\n",
    "\n",
    "## Update Equations\n",
    "$$K = pH^T(HpH^T + R)^{-1}$$\n",
    "$$x_k = X + K(z - HX)$$\n",
    "$$px_k = (I-KH)p$$\n",
    "\n",
    "\n",
    "$x, X$: these variables represent your state(i.e the things you care about and "
   ]
  }
 ],
 "metadata": {
  "kernelspec": {
   "display_name": "Python [conda env:py3]",
   "language": "python",
   "name": "conda-env-py3-py"
  },
  "language_info": {
   "codemirror_mode": {
    "name": "ipython",
    "version": 3
   },
   "file_extension": ".py",
   "mimetype": "text/x-python",
   "name": "python",
   "nbconvert_exporter": "python",
   "pygments_lexer": "ipython3",
   "version": "3.5.3"
  }
 },
 "nbformat": 4,
 "nbformat_minor": 2
}
