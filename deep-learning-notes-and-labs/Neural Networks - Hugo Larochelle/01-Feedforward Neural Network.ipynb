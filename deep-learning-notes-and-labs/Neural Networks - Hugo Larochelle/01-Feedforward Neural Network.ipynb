{
 "cells": [
  {
   "cell_type": "markdown",
   "metadata": {},
   "source": [
    "Topics:\n",
    "--------\n",
    "\n",
    "- Connection weights\n",
    "- bias\n",
    "- activation function\n",
    "\n",
    "_______________________________________\n",
    "______________________________________\n",
    "\n",
    "\n",
    "- **Neuron pre-activation(or input activation)**\n",
    "$$a(\\textbf{x})= b + \\sum _{i}w_i x_i = b + \\textbf{W}^T\\textbf{x}$$\n",
    "\n",
    "- **Neuron (output) activation**\n",
    "$$h(\\textbf{x})= g (a(\\textbf{x})) = g(b + \\sum _{i}w_i x_i)$$\n",
    "![](assets/1.png)\n",
    "- $\\textbf{W}$ are the connection weights\n",
    "- $b$ is the neuron bias\n",
    "- $g(.)$ is called the activation function\n",
    "\n",
    "![](assets/2.png)\n",
    "\n",
    "## Activation Function\n",
    "- **Linear activation function** \n",
    "$$g(a)=a$$\n",
    "![](assets/3.png)\n",
    " - Performs no input squashing\n",
    " - Not very interesting\n",
    "____________________________\n",
    "\n",
    "- **Sigmoid activation function** \n",
    "$$g(a)=sigma(a)=\\frac{1}{1+e^{-a}}$$\n",
    "![](assets/4.png)\n",
    " - Squashes the neuron's pre-activation between 0 and 1.\n",
    " - Always Positive\n",
    " - Bounded\n",
    " - Strictly increasing\n",
    "_______________________________________\n",
    "\n",
    "- **Hyperbolic tangent ($\\tanh $) activation function** \n",
    "$$g(a)= \\tanh(a) = \\frac{e^{(a)}-e^{(-a)}}{e^{(a)}+e^{(-a)}}= \\frac{e^{(2a)}-1}{e^{(2a)}+1}$$\n",
    "![](assets/5.png)\n",
    " - Squashes the neuron's pre activation between -1 and 1\n",
    " - Can be positive or negative\n",
    " - Bounded\n",
    " - Strictly increasing\n",
    " \n",
    "_________________________________\n",
    "\n",
    "- **Rectified linear activation function** \n",
    "$$g(a)= reclin(a) = max(0,a)$$\n",
    "![](assets/6.png)\n",
    " - Bounded below by 0 (always non negative)\n",
    " - Not upper bounded\n",
    " - Strictly increasing\n",
    " - Tends to give neurons with sparse activities"
   ]
  }
 ],
 "metadata": {
  "anaconda-cloud": {},
  "kernelspec": {
   "display_name": "Python [conda env:tensorflow3]",
   "language": "python",
   "name": "conda-env-tensorflow3-py"
  },
  "language_info": {
   "codemirror_mode": {
    "name": "ipython",
    "version": 3
   },
   "file_extension": ".py",
   "mimetype": "text/x-python",
   "name": "python",
   "nbconvert_exporter": "python",
   "pygments_lexer": "ipython3",
   "version": "3.5.2"
  }
 },
 "nbformat": 4,
 "nbformat_minor": 1
}
