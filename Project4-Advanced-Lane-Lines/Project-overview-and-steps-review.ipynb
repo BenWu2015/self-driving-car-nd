{
 "cells": [
  {
   "cell_type": "markdown",
   "metadata": {},
   "source": [
    "## Project Steps:\n",
    "1. Camera calibration\n",
    "2. Distortion correction\n",
    "3. Color/gradient threshold\n",
    "4. Perspective transform\n",
    "5. Detect lane lines\n",
    "6. Determine the lane curvature\n",
    "\n",
    "## Processing Each Image\n",
    "![](assets/color-shadow-example.jpg)\n",
    "\n",
    "In this project, the first thing we will do it to **compute the camera calibration matrix** and **distortion coefficients**. We only need to compute these once, and then we will apply them to undistort each new frame.\n",
    "\n",
    "Next, we will apply thresholds to create a binary image and then apply a perspective transform.\n",
    "\n",
    "\n",
    "### Thresholding\n",
    "We will want to try out various combinations of color and gradient thresholds to generate a binary image where the lane lines are clearly visible. There's more than one way to achieve a good result, but for example, given the image above, the output we are going for should look something like this:\n",
    "\n",
    "\n",
    "![](assets/binary-combo-img.jpg)\n",
    "\n",
    "\n",
    "### Perspective Transform\n",
    "\n",
    "Next, we want to identify four source points for our perspective transform. In this case, we can assume the road is a flat plane. This isn't strictly true, but it can serve as an approximation for this project. We would like to pick four points in a trapezoidal shape (similar to region masking) that would represent a rectangle when looking down on the road from above. \n",
    "\n",
    "The easiest way to do this is to investigate an image where the lane lines are straight, and find four points lying along the lines that, after perspective transform, make the lines look straight and vertical from a bird's eye view perspective. \n",
    "\n",
    "**Here's an example of the result you are going for with straight lane lines:**\n",
    "\n",
    "\n",
    "![](assets/warped-straight-lines.jpg)\n",
    "\n",
    "\n",
    "**Now for curved lines**\n",
    "\n",
    "Those same four source points will now work to transform any image(again, under the assumption that the road is flat and the camera perspective hasn't changed).\n",
    "\n",
    "When applying the transform to new images, the test of whether or not you got the transform correct, is that the lines should appear parallel in the warped images, whether they are straight or curved.\n",
    "\n",
    "Here's an example of applying a perspective transform to your thresholded binary image, using the same source and destination points as above, showing that the curved lines are (more or less) parallel in the transformed image:\n",
    "\n",
    "![](assets/warped-curved-lines.jpg)"
   ]
  }
 ],
 "metadata": {
  "kernelspec": {
   "display_name": "Python 3",
   "language": "python",
   "name": "python3"
  },
  "language_info": {
   "codemirror_mode": {
    "name": "ipython",
    "version": 3
   },
   "file_extension": ".py",
   "mimetype": "text/x-python",
   "name": "python",
   "nbconvert_exporter": "python",
   "pygments_lexer": "ipython3",
   "version": "3.6.0"
  }
 },
 "nbformat": 4,
 "nbformat_minor": 2
}
