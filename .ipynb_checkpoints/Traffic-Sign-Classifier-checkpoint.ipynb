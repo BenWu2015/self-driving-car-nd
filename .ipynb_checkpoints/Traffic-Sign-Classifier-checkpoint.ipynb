{
 "cells": [
  {
   "cell_type": "code",
   "execution_count": 1,
   "metadata": {
    "collapsed": false
   },
   "outputs": [],
   "source": [
    "%matplotlib inline\n",
    "import matplotlib.pyplot as plt\n",
    "import tensorflow as tf\n",
    "import numpy as np\n",
    "from sklearn.metrics import confusion_matrix\n",
    "import time\n",
    "from datetime import timedelta\n",
    "import math\n",
    "import os\n",
    "\n",
    "# Use PrettyTensor to simplify Neural Network construction."
   ]
  },
  {
   "cell_type": "code",
   "execution_count": 2,
   "metadata": {
    "collapsed": false
   },
   "outputs": [],
   "source": [
    "import prettytensor as pt"
   ]
  },
  {
   "cell_type": "code",
   "execution_count": 3,
   "metadata": {
    "collapsed": false
   },
   "outputs": [
    {
     "data": {
      "text/plain": [
       "'0.12.1'"
      ]
     },
     "execution_count": 3,
     "metadata": {},
     "output_type": "execute_result"
    }
   ],
   "source": [
    "tf.__version__"
   ]
  },
  {
   "cell_type": "code",
   "execution_count": 4,
   "metadata": {
    "collapsed": false
   },
   "outputs": [
    {
     "name": "stdout",
     "output_type": "stream",
     "text": [
      "0.7.1\n"
     ]
    }
   ],
   "source": [
    "print(pt.__version__)"
   ]
  },
  {
   "cell_type": "markdown",
   "metadata": {},
   "source": [
    "Load Data\n",
    "=================\n"
   ]
  },
  {
   "cell_type": "code",
   "execution_count": 5,
   "metadata": {
    "collapsed": true
   },
   "outputs": [],
   "source": [
    "# Load pickled data\n",
    "import pickle\n",
    "\n",
    "# TODO: Fill this in based on where you saved the training and testing data\n",
    "\n",
    "training_file = 'traffic-signs-data/train.p'\n",
    "validation_file= 'traffic-signs-data/valid.p'\n",
    "testing_file = 'traffic-signs-data/test.p'\n",
    "\n",
    "with open(training_file, mode='rb') as f:\n",
    "    train = pickle.load(f)\n",
    "with open(validation_file, mode='rb') as f:\n",
    "    valid = pickle.load(f)\n",
    "with open(testing_file, mode='rb') as f:\n",
    "    test = pickle.load(f)"
   ]
  },
  {
   "cell_type": "code",
   "execution_count": 6,
   "metadata": {
    "collapsed": false
   },
   "outputs": [
    {
     "name": "stdout",
     "output_type": "stream",
     "text": [
      "['Speed limit (20km/h)' 'Speed limit (30km/h)' 'Speed limit (50km/h)'\n",
      " 'Speed limit (60km/h)' 'Speed limit (70km/h)' 'Speed limit (80km/h)'\n",
      " 'End of speed limit (80km/h)' 'Speed limit (100km/h)'\n",
      " 'Speed limit (120km/h)' 'No passing'\n",
      " 'No passing for vehicles over 3.5 metric tons'\n",
      " 'Right-of-way at the next intersection' 'Priority road' 'Yield' 'Stop'\n",
      " 'No vehicles' 'Vehicles over 3.5 metric tons prohibited' 'No entry'\n",
      " 'General caution' 'Dangerous curve to the left'\n",
      " 'Dangerous curve to the right' 'Double curve' 'Bumpy road' 'Slippery road'\n",
      " 'Road narrows on the right' 'Road work' 'Traffic signals' 'Pedestrians'\n",
      " 'Children crossing' 'Bicycles crossing' 'Beware of ice/snow'\n",
      " 'Wild animals crossing' 'End of all speed and passing limits'\n",
      " 'Turn right ahead' 'Turn left ahead' 'Ahead only' 'Go straight or right'\n",
      " 'Go straight or left' 'Keep right' 'Keep left' 'Roundabout mandatory'\n",
      " 'End of no passing' 'End of no passing by vehicles over 3.5 metric tons']\n",
      "\n",
      "Abbreviated Sign names:\n",
      "\n",
      "\n",
      "['S L (20km/h)' 'S L (30km/h)' 'S L (50km/h)' 'S L (60km/h)' 'S L (70km/h)'\n",
      " 'S L (80km/h)' 'EOFS L (80km/h)' 'S L (100km/h)' 'S L (120km/h)' 'No psg'\n",
      " 'No psg for vhcls > 3.5T' 'ROFW at the nxt intersct' 'Priority road'\n",
      " 'Yield' 'Stop' 'No vhcls' 'veh > 3.5 T Prohib' 'No entry'\n",
      " 'General caution' 'DGRS curve to the L' 'DGRS curve to the R'\n",
      " 'Double curve' 'Bumpy road' 'Slippery road' 'Road narrows on the R'\n",
      " 'Road work' 'Traffic signals' 'Pedestrians' 'Children crsg'\n",
      " 'Bicycles crsg' 'Beware of ice/snow' 'Wild animals crsg'\n",
      " 'EOF all speed & psg lim' 'Turn R ahead' 'Turn L ahead' 'Ahead only'\n",
      " 'Go straight or R' 'Go straight or L' 'Keep R' 'Keep L'\n",
      " 'Roundabout mdatory' 'EOF no psg' 'EOF no psg by Veh > 3.5T']\n"
     ]
    }
   ],
   "source": [
    "# Load Class-names\n",
    "import pandas as pd\n",
    "signnames1 = pd.read_csv('signnames.csv').values[:,1]\n",
    "signnames = pd.read_csv('signnames.1.csv').values[:,1]\n",
    "print(signnames1)\n",
    "print(\"\\nAbbreviated Sign names:\\n\\n\")\n",
    "print(signnames)"
   ]
  },
  {
   "cell_type": "code",
   "execution_count": 7,
   "metadata": {
    "collapsed": true
   },
   "outputs": [],
   "source": [
    "images_train, cls_train = train['features'], train['labels']\n",
    "images_test, cls_test = test['features'], test['labels']\n",
    "images_valid, cls_valid = valid['features'], valid['labels']"
   ]
  },
  {
   "cell_type": "code",
   "execution_count": 8,
   "metadata": {
    "collapsed": false
   },
   "outputs": [
    {
     "name": "stdout",
     "output_type": "stream",
     "text": [
      "Number of training examples = 34799\n",
      "Number of testing examples = 12630\n",
      "Image data shape = (32, 32, 3)\n",
      "Number of classes = 43\n"
     ]
    }
   ],
   "source": [
    "\n",
    "#  Number of training examples\n",
    "n_train = len(cls_train)\n",
    "\n",
    "# TODO: Number of testing examples.\n",
    "n_test = len(cls_test)\n",
    "\n",
    "# TODO: What's the shape of an traffic sign image?\n",
    "image_shape = images_train[0].shape\n",
    "\n",
    "# TODO: How many unique classes/labels there are in the dataset.\n",
    "n_classes = len(np.unique(cls_train))\n",
    "\n",
    "\n",
    "\n",
    "\n",
    "print(\"Number of training examples =\", n_train)\n",
    "print(\"Number of testing examples =\", n_test)\n",
    "print(\"Image data shape =\", image_shape)\n",
    "print(\"Number of classes =\", n_classes)"
   ]
  },
  {
   "cell_type": "code",
   "execution_count": 9,
   "metadata": {
    "collapsed": true
   },
   "outputs": [],
   "source": [
    "# One hot encode labels\n",
    "def encode_labels(labels):\n",
    "    labels = (np.arange(n_classes) == labels[:, None]).astype(np.float)\n",
    "    return labels"
   ]
  },
  {
   "cell_type": "code",
   "execution_count": 10,
   "metadata": {
    "collapsed": true
   },
   "outputs": [],
   "source": [
    "labels_train = encode_labels(cls_train)\n",
    "labels_test = encode_labels(cls_test)\n"
   ]
  },
  {
   "cell_type": "code",
   "execution_count": 11,
   "metadata": {
    "collapsed": false
   },
   "outputs": [
    {
     "data": {
      "text/plain": [
       "array([ 0.,  0.,  0.,  0.,  0.,  0.,  0.,  0.,  0.,  0.,  0.,  0.,  0.,\n",
       "        0.,  0.,  0.,  0.,  0.,  0.,  0.,  0.,  0.,  0.,  0.,  0.,  0.,\n",
       "        0.,  0.,  0.,  0.,  0.,  0.,  0.,  0.,  0.,  0.,  0.,  0.,  0.,\n",
       "        0.,  0.,  1.,  0.])"
      ]
     },
     "execution_count": 11,
     "metadata": {},
     "output_type": "execute_result"
    }
   ],
   "source": [
    "labels_train[0]"
   ]
  },
  {
   "cell_type": "markdown",
   "metadata": {},
   "source": [
    "Data Dimensions\n",
    "================"
   ]
  },
  {
   "cell_type": "code",
   "execution_count": 12,
   "metadata": {
    "collapsed": false
   },
   "outputs": [
    {
     "data": {
      "text/plain": [
       "32"
      ]
     },
     "execution_count": 12,
     "metadata": {},
     "output_type": "execute_result"
    }
   ],
   "source": [
    "img_size = image_shape[0]\n",
    "img_size"
   ]
  },
  {
   "cell_type": "code",
   "execution_count": 13,
   "metadata": {
    "collapsed": false
   },
   "outputs": [
    {
     "data": {
      "text/plain": [
       "3"
      ]
     },
     "execution_count": 13,
     "metadata": {},
     "output_type": "execute_result"
    }
   ],
   "source": [
    "num_channels = image_shape[2]\n",
    "num_channels"
   ]
  },
  {
   "cell_type": "code",
   "execution_count": 14,
   "metadata": {
    "collapsed": false
   },
   "outputs": [
    {
     "data": {
      "text/plain": [
       "43"
      ]
     },
     "execution_count": 14,
     "metadata": {},
     "output_type": "execute_result"
    }
   ],
   "source": [
    "n_classes"
   ]
  },
  {
   "cell_type": "code",
   "execution_count": 15,
   "metadata": {
    "collapsed": true
   },
   "outputs": [],
   "source": [
    "# The images are 32x32 pixels, but We will crop them to 24x24 pixels\n",
    "img_size_cropped = 24"
   ]
  },
  {
   "cell_type": "markdown",
   "metadata": {},
   "source": [
    "Helper-Function for plotting images\n",
    "===================================\n",
    "\n",
    "Function used to plot 9 images in a 3x3 grid, and writing the true and predicted classes below each image."
   ]
  },
  {
   "cell_type": "code",
   "execution_count": 16,
   "metadata": {
    "collapsed": true
   },
   "outputs": [],
   "source": [
    "def plot_images(images, cls_true, cls_pred=None, smooth=True):\n",
    "    assert len(images) == len(cls_true) == 9\n",
    "    \n",
    "    # Create figure with subplots\n",
    "    fig, axes = plt.subplots(3, 3)\n",
    "    \n",
    "    # Adjust vertical spacing if we need to print ensemble and best net.\n",
    "    if cls_pred is None:\n",
    "        hspace = 0.3\n",
    "        \n",
    "    else:\n",
    "        hspace = 0.6\n",
    "    fig.subplots_adjust(hspace=hspace, wspace=0.3)\n",
    "    \n",
    "    for i, ax in enumerate(axes.flat):\n",
    "        # Interpolation type.\n",
    "        \n",
    "        if smooth:\n",
    "            interpolation = 'spline16'\n",
    "            \n",
    "        else:\n",
    "            interpolation = 'nearest'\n",
    "            \n",
    "        # Plot image\n",
    "        ax.imshow(images[i, :, :, :], interpolation=interpolation)\n",
    "        \n",
    "        # Name of the true class.\n",
    "        cls_true_name = signnames[cls_true[i]]\n",
    "        \n",
    "        # Show true and predicted classes.\n",
    "        if cls_pred is None:\n",
    "            xlabel = \"True: {0}\".format(cls_true_name)\n",
    "            \n",
    "        else:\n",
    "            # Name of the predicted class.\n",
    "            cls_pred_name = signnames[cls_pred[i]]\n",
    "            \n",
    "            xlabel = \"True: {0}\\nPred: {1}\".format(cls_true_name, cls_pred_name)\n",
    "            \n",
    "        # Show the classses as the label on the x-axis.\n",
    "        ax.set_xlabel(xlabel)\n",
    "        \n",
    "        \n",
    "        # Remove ticks from the plot.\n",
    "        ax.set_xticks([])\n",
    "        ax.set_yticks([])\n",
    "        \n",
    "        \n",
    "    # Ensure the plot is shown correctly with multiple plots\n",
    "    plt.tight_layout(pad=1, w_pad=0.5, h_pad=1.0)\n",
    "    plt.show()"
   ]
  },
  {
   "cell_type": "markdown",
   "metadata": {},
   "source": [
    "Plot a few images to see if data is correct\n",
    "=============================================\n"
   ]
  },
  {
   "cell_type": "code",
   "execution_count": 17,
   "metadata": {
    "collapsed": false
   },
   "outputs": [
    {
     "data": {
      "image/png": "[encoded data removed]",
      "text/plain": [
       "<matplotlib.figure.Figure at 0x1d704385978>"
      ]
     },
     "metadata": {},
     "output_type": "display_data"
    }
   ],
   "source": [
    "# Get the first images from the test-set.\n",
    "images = images_test[0:9]\n",
    "\n",
    "# Get the true classes for those images.\n",
    "cls_true = cls_test[0:9]\n",
    "\n",
    "# Plot the images and labels using our helper-function above.\n",
    "plot_images(images=images, cls_true=cls_true, smooth=False)"
   ]
  },
  {
   "cell_type": "markdown",
   "metadata": {},
   "source": [
    "The pixelated images above are what the neural network will get as input. The images might be a bit easier for the human eye to recognize if we smoothen the pixels."
   ]
  },
  {
   "cell_type": "code",
   "execution_count": 18,
   "metadata": {
    "collapsed": false
   },
   "outputs": [
    {
     "data": {
      "image/png": "[encoded data removed]",
      "text/plain": [
       "<matplotlib.figure.Figure at 0x1d7043856a0>"
      ]
     },
     "metadata": {},
     "output_type": "display_data"
    }
   ],
   "source": [
    "plot_images(images=images, cls_true=cls_true, smooth=True)"
   ]
  },
  {
   "cell_type": "markdown",
   "metadata": {},
   "source": [
    "Tensorflow Graph\n",
    "===================\n",
    "\n",
    "Our TensorFlow Graph will consist of the following parts which will be detailed below:\n",
    "- Placeholder variables used for inputting data to the graph.\n",
    "- Variables that are going to be optimized so as to make the convolutional network perform better.\n",
    "- The mathematical formulas for the convolutional network.\n",
    "- A loss measure that can be used to guide the optimization of the variables.\n",
    "- An optimization method which updates the variables.\n",
    "\n",
    "\n",
    "1. Placeholder variables\n",
    "=========================\n",
    "First we define the placeholder variable for the input images. This allows us to change the images that are input to the TensorFlow graph. The data-type is set to float32 and the shape is set to [None, img_size, img_size, num_channels], where None means that the tensor may hold an arbitrary number of images with each image being img_size pixels high and img_size pixels wide and with num_channels colour channels."
   ]
  },
  {
   "cell_type": "code",
   "execution_count": 19,
   "metadata": {
    "collapsed": true
   },
   "outputs": [],
   "source": [
    "x = tf.placeholder(tf.float32, shape=[None, img_size, img_size, num_channels], name='x')"
   ]
  },
  {
   "cell_type": "markdown",
   "metadata": {},
   "source": [
    "Next we have the placeholder variable for the true labels associated with the images that were input in the placeholder variable X. The shape of this placeholder variable is [None, num_classes] which means it may hold an arbitrary number of labels and each label is a vector of length num_classes which is 43 in this case."
   ]
  },
  {
   "cell_type": "code",
   "execution_count": 20,
   "metadata": {
    "collapsed": true
   },
   "outputs": [],
   "source": [
    "y_true = tf.placeholder(tf.float32, shape=[None, n_classes], name='y_true')"
   ]
  },
  {
   "cell_type": "code",
   "execution_count": 21,
   "metadata": {
    "collapsed": true
   },
   "outputs": [],
   "source": [
    "# Use argmax to calculate the class_Number\n",
    "y_true_cls = tf.argmax(y_true, dimension=1)"
   ]
  },
  {
   "cell_type": "markdown",
   "metadata": {},
   "source": [
    "Helper-function for creating Pre-Processing\n",
    "=============================================\n",
    "\n",
    "The following helper-functions create the part of the TensorFlow computational graph that pre-processes the input images by adding nodes to the computational graph of TensorFlow.\n",
    "\n",
    "The pre-processing is different for training and testing for our ConvNets:\n",
    "- **For training:** the input images are randomly cropped, randomly flipped horizontally, and the hue, and contrast and saturation is adjust with random values. This artificially inflates the size of the training-set by creating random variations of the original input images. Examples of distorted images are shown below.\n",
    "- **For testing:** the input images are cropped around the centre and nothing else is adjusted."
   ]
  },
  {
   "cell_type": "code",
   "execution_count": 22,
   "metadata": {
    "collapsed": true
   },
   "outputs": [],
   "source": [
    "def pre_process_image(image, training):\n",
    "    '''\n",
    "    Args: - single image\n",
    "          - Boolean: whether to build the training or testing graph\n",
    "    Returns: a transformed image\n",
    "    '''\n",
    "    \n",
    "    if training:\n",
    "        # For training, add the following to the TensorFlow Graph\n",
    "        \n",
    "        # Randomly crop the input image.\n",
    "        image = tf.random_crop(image, size=[img_size_cropped, img_size_cropped, num_channels])\n",
    "        \n",
    "        # Randomly flip the image horizontally.\n",
    "        image = tf.image.random_flip_left_right(image)\n",
    "        \n",
    "        # Randomly adjust hue, contrast and saturation\n",
    "        image = tf.image.random_hue(image, max_delta=0.05)\n",
    "        image = tf.image.random_contrast(image, lower=0.3, upper=1.0)\n",
    "        image = tf.image.random_brightness(image, max_delta=0.2)\n",
    "        image = tf.image.random_saturation(image, lower=0.0, upper=2.0)\n",
    "        \n",
    "        \n",
    "        # Limit the image pixels between [0, 1] in case of overflow.\n",
    "        image = tf.minimum(image, 1.0)\n",
    "        image = tf.maximum(image, 0.0)\n",
    "        \n",
    "    else:\n",
    "        # For testing, add the following to the TensorFlow Graph\n",
    "        \n",
    "        # Crop the input image around the centre so it is the same\n",
    "        # size as images that are randomly cropped during training.\n",
    "        \n",
    "        image = tf.image.resize_image_with_crop_or_pad(image,\n",
    "                                                      target_height = img_size_cropped,\n",
    "                                                      target_width = img_size_cropped)\n",
    "        \n",
    "        \n",
    "    return image\n",
    "    \n",
    "    "
   ]
  },
  {
   "cell_type": "markdown",
   "metadata": {},
   "source": [
    "The function above is called for each image in the input batch using the following function."
   ]
  },
  {
   "cell_type": "code",
   "execution_count": 23,
   "metadata": {
    "collapsed": true
   },
   "outputs": [],
   "source": [
    "def pre_process(images, training):\n",
    "    '''\n",
    "    Args: - images\n",
    "          - Boolean \n",
    "    \n",
    "    Use Tensorflow to loop over all the input images and call the function\n",
    "    above which takes a single image as input.\n",
    "    \n",
    "    '''\n",
    "    \n",
    "    images = tf.map_fn(lambda image: pre_process_image(image, training), images)\n",
    "    \n",
    "    return images"
   ]
  },
  {
   "cell_type": "markdown",
   "metadata": {},
   "source": [
    "In order to plot the distorted images, we create the pre-processing graph for TensorFlow."
   ]
  },
  {
   "cell_type": "code",
   "execution_count": 24,
   "metadata": {
    "collapsed": false
   },
   "outputs": [],
   "source": [
    "distorted_images = pre_process(images=x, training=True)"
   ]
  },
  {
   "cell_type": "markdown",
   "metadata": {},
   "source": [
    "Helper-function for creating Main Processing\n",
    "==============================================\n",
    "The following helper-function creates the main part of the ConvNet. It uses [Pretty Tensor](https://github.com/google/prettytensor). Pretty Tensor provides a high level builder API for TensorFlow. It provides thin wrappers on Tensors so that you can easily build multi-layer neural networks."
   ]
  },
  {
   "cell_type": "code",
   "execution_count": 25,
   "metadata": {
    "collapsed": true
   },
   "outputs": [],
   "source": [
    "def main_network(images, training):\n",
    "    # wrap the input images as a Pretty Tensor object.\n",
    "    x_pretty = pt.wrap(images)\n",
    "    \n",
    "    # Pretty Tensor uses special numbers to distinguish between the training and testing phases.\n",
    "    if training:\n",
    "        phase = pt.Phase.train\n",
    "        \n",
    "    else:\n",
    "        phase = pt.Phase.infer\n",
    "        \n",
    "        \n",
    "    # Create the ConvNet using Pretty Tensor.\n",
    "    # Use batch-normalization in the first layer.\n",
    "    \n",
    "    with pt.defaults_scope(activation_fn=tf.nn.relu, phase=phase):\n",
    "        y_pred, loss = x_pretty.\\\n",
    "            conv2d(kernel=5, depth=64, name='layer_conv1', batch_normalize=True).\\\n",
    "            max_pool(kernel=2, stride=2).\\\n",
    "            conv2d(kernel=5, depth=64, name='layer_conv2').\\\n",
    "            max_pool(kernel=2, stride=2).\\\n",
    "            flatten().\\\n",
    "            fully_connected(size=256, name='layer_fc1').\\\n",
    "            fully_connected(size=128, name='layer_fc2').\\\n",
    "            softmax_classifier(num_classes=n_classes, labels=y_true)\n",
    "            \n",
    "    return y_pred, loss\n",
    "    "
   ]
  },
  {
   "cell_type": "markdown",
   "metadata": {},
   "source": [
    "Helper-function for creating Neural Network\n",
    "==============================================\n",
    "\n",
    "The following helper-function creates the full neural network, which consists of the pre-processing and main-processing defined above. The neural network is enclosed in the variable-scope named 'network' because we are actually creating two neural networks in the TensorFlow graph. By assigning a variable-scope, we can re-use the variables for the two neural networks, so the variables that are optimized for the training-network are re-used for the other network that is used for testing."
   ]
  },
  {
   "cell_type": "code",
   "execution_count": 26,
   "metadata": {
    "collapsed": false
   },
   "outputs": [],
   "source": [
    "def create_network(training):\n",
    "    # Wrap the neural network in the scope named 'network'.\n",
    "    # Create new variables during training, and re-use during testing.\n",
    "    \n",
    "    with tf.variable_scope('network', reuse=not training):\n",
    "        # Just rename the input placeholder variable for convenience.\n",
    "        images = x\n",
    "        \n",
    "        # Create TensorFlow graph for pre-processing.\n",
    "        images = pre_process(images=images, training = training)\n",
    "        \n",
    "        # Create TensorFlow graph for the main processing.\n",
    "        y_pred, loss = main_network(images=images, training=training)\n",
    "        \n",
    "    return y_pred, loss\n",
    "\n"
   ]
  },
  {
   "cell_type": "markdown",
   "metadata": {},
   "source": [
    "Create Convolution Neural Network for Training Phase\n",
    "=====================================================\n",
    "\n",
    "First Create a TensorFlow variable that keeps track of the number of optimization iterations performed so far. \n"
   ]
  },
  {
   "cell_type": "code",
   "execution_count": 27,
   "metadata": {
    "collapsed": true
   },
   "outputs": [],
   "source": [
    "# set trainable=False so that TensorFlow doesn't try to optimize global_step variable\n",
    "global_step = tf.Variable(initial_value=0,\n",
    "                         name='global_step', trainable=False)          "
   ]
  },
  {
   "cell_type": "markdown",
   "metadata": {},
   "source": [
    "Create ConvNet to be used for training. The create_network() function returns both y_pred and loss, but we only need the loss-function during training."
   ]
  },
  {
   "cell_type": "code",
   "execution_count": 28,
   "metadata": {
    "collapsed": false
   },
   "outputs": [],
   "source": [
    "_, loss = create_network(training=True)"
   ]
  },
  {
   "cell_type": "markdown",
   "metadata": {},
   "source": [
    "- Create an Optimizer which will minimize the loss-function.\n",
    "- Pass the global_step variable to the optimizer so it will be increased by one after each iteration."
   ]
  },
  {
   "cell_type": "code",
   "execution_count": 29,
   "metadata": {
    "collapsed": true
   },
   "outputs": [],
   "source": [
    "optimizer = tf.train.AdamOptimizer(learning_rate=1e-4).minimize(loss, global_step=global_step)"
   ]
  },
  {
   "cell_type": "markdown",
   "metadata": {},
   "source": [
    "Create Convolution Neural Network for Test Phase/Inference\n",
    "==========================================================\n",
    "\n",
    "Create the neural network for the test phase. Once again the create_network() function returns the predicted class-labels\n",
    "y_pred for the input images, as well as the loss-function to be used during optimization. During testing we only need y_pred."
   ]
  },
  {
   "cell_type": "code",
   "execution_count": 30,
   "metadata": {
    "collapsed": false
   },
   "outputs": [],
   "source": [
    "y_pred, _ = create_network(training=False)"
   ]
  },
  {
   "cell_type": "markdown",
   "metadata": {},
   "source": [
    "- Calculate the predicted class number as an integer.\n",
    "- The output of the network y_pred is an array with 43 elements. \n",
    "- The class number is the index of the largest element in the array."
   ]
  },
  {
   "cell_type": "code",
   "execution_count": 31,
   "metadata": {
    "collapsed": true
   },
   "outputs": [],
   "source": [
    "y_pred_cls = tf.argmax(y_pred, dimension=1)"
   ]
  },
  {
   "cell_type": "markdown",
   "metadata": {},
   "source": [
    "- Create a vector of booleans telling us whether the predicted class equals the true class of each image."
   ]
  },
  {
   "cell_type": "code",
   "execution_count": 32,
   "metadata": {
    "collapsed": true
   },
   "outputs": [],
   "source": [
    "correct_prediction = tf.equal(y_pred_cls, y_true_cls)"
   ]
  },
  {
   "cell_type": "markdown",
   "metadata": {},
   "source": [
    "The classification accuracy is calculated by first type-casting the vector of booleans to floats, so that False becomes 0 and True becomes 1, and then taking the average of these numbers."
   ]
  },
  {
   "cell_type": "code",
   "execution_count": 33,
   "metadata": {
    "collapsed": true
   },
   "outputs": [],
   "source": [
    "accuracy = tf.reduce_mean(tf.cast(correct_prediction, tf.float32))"
   ]
  },
  {
   "cell_type": "raw",
   "metadata": {},
   "source": [
    "def evaluate(X_data, y_data):\n",
    "    num_examples = len(X_data)\n",
    "    total_accuracy = 0\n",
    "    sess = tf.get_default_session()\n",
    "    for offset in range(0, num_examples, train_batch_size):\n",
    "        batch_x, batch_y = X_data[offset:offset+train_batch_size], y_data[offset:offset+train_batch_size]\n",
    "        accuracy = sess.run(accuracy, feed_dict={x: batch_x, y: batch_y})\n",
    "        total_accuracy += (accuracy * len(batch_x))\n",
    "    return total_accuracy / num_examples\n"
   ]
  },
  {
   "cell_type": "markdown",
   "metadata": {},
   "source": [
    "Saver\n",
    "========\n",
    "- In order to save the variables of the neural network, so that they can be reloaded quickly without having to train the network again, we create a Saver-Object which is used for storing and retrieving all the variables of the TensorFlow Graph. "
   ]
  },
  {
   "cell_type": "code",
   "execution_count": 34,
   "metadata": {
    "collapsed": true
   },
   "outputs": [],
   "source": [
    "saver = tf.train.Saver()"
   ]
  },
  {
   "cell_type": "markdown",
   "metadata": {},
   "source": [
    "Getting the Weights\n",
    "============================\n",
    "- Retrieve the variables from TensorFlow so that we can plot the weights of the neural network. When using Pretty Tensor, all the variables of the layers are created indirectly by Pretty Tensor.\n",
    "- We used the names ('Variable scopes') layer_conv1 and layer_conv2 for the two convolutional layers. Pretty Tensor automatically gives names to the variables it creates for each layer, so we can retrieve the weights for a layer using the layer's scope-name and the variable-name.\n"
   ]
  },
  {
   "cell_type": "code",
   "execution_count": 35,
   "metadata": {
    "collapsed": true
   },
   "outputs": [],
   "source": [
    "def get_weights_variable(layer_name):\n",
    "    # Retrieve an existing variable named 'weights' in the scope with the given layer_name\n",
    "    # Though TensorFlow function tf.get_variable() is used here, it is usually intended for anothe purpose\n",
    "    \n",
    "    with tf.variable_scope(\"network/\" + layer_name, reuse=True):\n",
    "        variable = tf.get_variable('weights')\n",
    "        \n",
    "    return variable"
   ]
  },
  {
   "cell_type": "code",
   "execution_count": 36,
   "metadata": {
    "collapsed": true
   },
   "outputs": [],
   "source": [
    "weights_conv1 = get_weights_variable(layer_name='layer_conv1')\n",
    "weights_conv2 = get_weights_variable(layer_name='layer_conv2')"
   ]
  },
  {
   "cell_type": "markdown",
   "metadata": {},
   "source": [
    "Getting the layer Outputs\n",
    "==========================\n",
    "\n",
    "Similarly we also retrieve the outputs of the convolutional layers. We retrieve the last tensor that is output by the convolutional layer."
   ]
  },
  {
   "cell_type": "code",
   "execution_count": 37,
   "metadata": {
    "collapsed": true
   },
   "outputs": [],
   "source": [
    "def get_layer_output(layer_name):\n",
    "    # The name of the last operation of the convolutional layer.\n",
    "    # This assumes you are using Relu as the activation-function.\n",
    "    tensor_name = \"network/\" + layer_name + \"/Relu:0\"\n",
    "    \n",
    "    # Get the tensor with this name.\n",
    "    tensor = tf.get_default_graph().get_tensor_by_name(tensor_name)\n",
    "    \n",
    "    return tensor"
   ]
  },
  {
   "cell_type": "code",
   "execution_count": 38,
   "metadata": {
    "collapsed": true
   },
   "outputs": [],
   "source": [
    "output_conv1 = get_layer_output(layer_name='layer_conv1')\n",
    "output_conv2 = get_layer_output(layer_name='layer_conv2')"
   ]
  },
  {
   "cell_type": "code",
   "execution_count": null,
   "metadata": {
    "collapsed": true
   },
   "outputs": [],
   "source": []
  },
  {
   "cell_type": "markdown",
   "metadata": {},
   "source": [
    "TensorFLow Run Session\n",
    "======================\n"
   ]
  },
  {
   "cell_type": "code",
   "execution_count": 39,
   "metadata": {
    "collapsed": true
   },
   "outputs": [],
   "source": [
    "session = tf.Session()"
   ]
  },
  {
   "cell_type": "markdown",
   "metadata": {},
   "source": [
    "Restore or initialize variables\n",
    "==================================\n",
    "- Save checkpoints during training so we can continue training at another time, and also for performing analysis later without having to train the network every time.\n",
    "\n",
    "- Note: Remember to turn the checkpoint off when the network needs to restart the training."
   ]
  },
  {
   "cell_type": "code",
   "execution_count": 40,
   "metadata": {
    "collapsed": true
   },
   "outputs": [],
   "source": [
    "# directory for checkpoints\n",
    "save_dir = 'checkpoints/'\n",
    "\n",
    "# create the directory if it doesn't exist.\n",
    "if not os.path.exists(save_dir):\n",
    "    os.makedirs(save_dir)\n",
    "    \n",
    "# Create the base-filename for the checkpoints, TensorFlow will\n",
    "# append the iteration number.\n",
    "save_path = os.path.join(save_dir, 'traffic_sign_classifier_cnn')"
   ]
  },
  {
   "cell_type": "code",
   "execution_count": 41,
   "metadata": {
    "collapsed": false
   },
   "outputs": [
    {
     "name": "stdout",
     "output_type": "stream",
     "text": [
      "Trying to restore last checkpoint ...\n",
      "Failed to restore the checkpoint. Initializing variables instead ...\n"
     ]
    }
   ],
   "source": [
    "# Try to restore the latest checkpoint. \n",
    "try:\n",
    "    print(\"Trying to restore last checkpoint ...\")\n",
    "    \n",
    "    # Use TensorFlow to find the lastest checkpoint - if any\n",
    "    last_chk_path = tf.train.latest_checkpoint(checkpoint_dir=save_dir)\n",
    "    \n",
    "    # Try and Load the data in the checkpoint.\n",
    "    saver.restore(session, save_path=last_chk_path)\n",
    "    \n",
    "    # If the checkpoint is successfully loaded\n",
    "    print(\"Restored checkpoint from:\", last_chk_path)\n",
    "    \n",
    "except:\n",
    "    # If the above failed for some reason, simply\n",
    "    # Initialize all the variables for the TensorFlow Graph.\n",
    "    print(\"Failed to restore the checkpoint. Initializing variables instead ...\")\n",
    "    session.run(tf.global_variables_initializer())"
   ]
  },
  {
   "cell_type": "markdown",
   "metadata": {},
   "source": [
    "Helper-function to get a random training-batch\n",
    "==============================================\n",
    "\n"
   ]
  },
  {
   "cell_type": "code",
   "execution_count": 42,
   "metadata": {
    "collapsed": true
   },
   "outputs": [],
   "source": [
    "train_batch_size = 64"
   ]
  },
  {
   "cell_type": "code",
   "execution_count": 43,
   "metadata": {
    "collapsed": true
   },
   "outputs": [],
   "source": [
    "def random_batch():\n",
    "    # Number of training examples\n",
    "    num_images = len(images_train)\n",
    "    \n",
    "    # Create a random index.\n",
    "    idx = np.random.choice(num_images, size=train_batch_size,\n",
    "                          replace=False)\n",
    "    \n",
    "    # Use the random index to select random images and labels.\n",
    "    x_batch = images_train[idx, :, :, :]\n",
    "    y_batch = labels_train[idx, :]\n",
    "    \n",
    "    return x_batch, y_batch"
   ]
  },
  {
   "cell_type": "markdown",
   "metadata": {},
   "source": [
    "Helper-function to perform optimization\n",
    "================================================\n",
    "\n",
    "\n",
    "This function performs a number of optimization iterations so as to gradually improve the variables of the network layers. In each iteration, a new batch of data is selected from the training-set and then TensorFlow executes the optimizer using those training samples. The progress is printed every 100 iterations. A checkpoint is saved every 1000 iterations and also after the last iteration."
   ]
  },
  {
   "cell_type": "code",
   "execution_count": 44,
   "metadata": {
    "collapsed": true
   },
   "outputs": [],
   "source": [
    "def optimize(num_iterations):\n",
    "    # Start-time used for printing time-usage below.\n",
    "    start_time = time.time()\n",
    "    \n",
    "    for i in range(num_iterations):\n",
    "        # Get a batch of training examples.\n",
    "        # X_batch now holds a batch of images and \n",
    "        # y_true_batch are the true labels for those images.\n",
    "        \n",
    "        x_batch, y_true_batch = random_batch()\n",
    "        \n",
    "        # Put the batch into a dict with the proper names for \n",
    "        # placeholder variables in the TensorFlow graph.\n",
    "        \n",
    "        feed_dict_train = {x: x_batch,\n",
    "                           y_true: y_true_batch}\n",
    "        \n",
    "        # Run the optimizer using this batch of training data.\n",
    "        # TensorFlow assigns the variables in feed_dict_train to the \n",
    "        # placeholder variables and then runs the optimizer.\n",
    "        # We also want to retrieve the global_step counter.\n",
    "        \n",
    "        i_global, _ = session.run([global_step, optimizer],\n",
    "                                 feed_dict=feed_dict_train)\n",
    "        \n",
    "        # Print status to screen every 100 iterations and  last.\n",
    "        if(i_global % 100 == 0) or (i == num_iterations - 1):\n",
    "            # Save all variables of the TensorFlow graph to a checkpoint\n",
    "            # Append the global_step counter to the filename so we can\n",
    "            # save the last several checkpoints\n",
    "            \n",
    "            saver.save(session, \n",
    "                      save_path = save_path,\n",
    "                      global_step = global_step)\n",
    "            \n",
    "            print(\"Saved checkpoint.\")\n",
    "            \n",
    "    #validation_accuracy = evaluate(images_valid, cls_valid)\n",
    "\n",
    "       \n",
    "    #print(\"Validation Accuracy = {:.3f}\".format(validation_accuracy))\n",
    "    #print()\n",
    "            \n",
    "    # Ending time\n",
    "    end_time = time.time()\n",
    "    \n",
    "    # Difference between start and end-times.\n",
    "    time_diff = end_time - start_time\n",
    "    \n",
    "    # Print the time usage\n",
    "    print(\"Time usage: \" + str(timedelta(seconds=int(round(time_diff)))))"
   ]
  },
  {
   "cell_type": "markdown",
   "metadata": {},
   "source": [
    "Helper-function to plot example errors from the test set that have been mis-classified\n",
    "============================================\n"
   ]
  },
  {
   "cell_type": "code",
   "execution_count": 45,
   "metadata": {
    "collapsed": true
   },
   "outputs": [],
   "source": [
    "def plot_example_errors(cls_pred, correct):\n",
    "    \n",
    "    # cls_pred is an array of the predicted class-number/id for all\n",
    "    # images in the test set.\n",
    "    \n",
    "    # correct is a boolean array whether the predicted class\n",
    "    # is equal to the true class for each image in the test-set.\n",
    "\n",
    "    # Negate the boolean array.\n",
    "    \n",
    "    incorrect = (correct == False)\n",
    "    \n",
    "    # Get the images from the test set that have been incorrectly\n",
    "    # classified.\n",
    "    images = images_test[incorrect]\n",
    "    \n",
    "    # Get the predicted classes for those images.\n",
    "    cls_pred = cls_pred[incorrect]\n",
    "    \n",
    "    # Plot the first 9 images.\n",
    "    plot_images(images=images[0:9], \n",
    "                cls_true = cls_true[0:9],\n",
    "                cls_pred = cls_pred[0:9])"
   ]
  },
  {
   "cell_type": "markdown",
   "metadata": {},
   "source": [
    "Helper-function to plot confusion matrix\n",
    "==========================================\n"
   ]
  },
  {
   "cell_type": "code",
   "execution_count": 46,
   "metadata": {
    "collapsed": true
   },
   "outputs": [],
   "source": [
    "def plot_confusion_matrix(cls_pred):\n",
    "    \n",
    "    # Get the confusion matrix using sklearn\n",
    "    cm = confusion_matrix(y_true=cls_test,  \n",
    "                          y_pred=cls_pred)\n",
    "    \n",
    "    # Print the confusion matrix as text.\n",
    "    for i in range(n_classes):\n",
    "        # Append the class-name to each line.\n",
    "        class_name = \"({}) {}\".format(i, signnames[i])\n",
    "        print(cm[i, :], class_name)\n",
    "        \n",
    "    # Print the class-numbers for easy reference.\n",
    "    class_numbers = [\" ({0})\".format(i) for i in range(n_classes)]\n",
    "    print(\"\".join(class_numbers))\n",
    "    "
   ]
  },
  {
   "cell_type": "markdown",
   "metadata": {},
   "source": [
    "Helper-functions for calculating classifications \n",
    "======================================================\n",
    "This function calculates the predicted classes of images and also returns a boolean array whether the classification of each image is correct."
   ]
  },
  {
   "cell_type": "code",
   "execution_count": 47,
   "metadata": {
    "collapsed": true
   },
   "outputs": [],
   "source": [
    "# Use batches to do the calculation\n",
    "batch_size = 256\n",
    "\n",
    "def predict_cls(images, labels, cls_true):\n",
    "    \n",
    "    '''\n",
    "    Args: - images\n",
    "          - labels\n",
    "          - true class-ids\n",
    "    \n",
    "    Returns: - correct: a boolean array whether each image is correctly classified.\n",
    "             - cls_pred: predicted class-id\n",
    "    '''\n",
    "    num_images = len(images)\n",
    "    \n",
    "    # Allocate an array for the predicted classes which will be calculated in\n",
    "    # batches and filled into this array.\n",
    "    cls_pred = np.zeros(shape=num_images, dtype=np.int)\n",
    "    \n",
    "    # Now calculate the predicted classes for the batches.\n",
    "    # Iterate through all the batches.\n",
    "    \n",
    "    # The starting index for the next batch is denoted i.\n",
    "    i = 0\n",
    "    \n",
    "    while i < num_images:\n",
    "        # The ending index for the next batch is denoted j.\n",
    "        j = min(i + batch_size, num_images)\n",
    "        \n",
    "        # Create a feed-dict with the images and labels between index i and j.\n",
    "        feed_dict = {x:images[i:j, :],\n",
    "                     y_true: labels[i:j, :]}\n",
    "        \n",
    "        # Calculate the predicted class using TensorFlow.\n",
    "        cls_pred[i:j] = session.run(y_pred_cls, feed_dict=feed_dict)\n",
    "        \n",
    "        # Set the start-index for the next batch to the end-index of the \n",
    "        # current batch. \n",
    "        \n",
    "        i = j\n",
    "        \n",
    "    # Create a boolean array whether each image is correctly classified.\n",
    "    correct = (cls_true == cls_pred)\n",
    "    \n",
    "    return correct, cls_pred"
   ]
  },
  {
   "cell_type": "code",
   "execution_count": 48,
   "metadata": {
    "collapsed": false
   },
   "outputs": [],
   "source": [
    "# calculate the predicted class for the testing set\n",
    "def predict_cls_test():\n",
    "    return predict_cls(images = images_test,\n",
    "                       labels = labels_test,\n",
    "                       cls_true = cls_test)"
   ]
  },
  {
   "cell_type": "markdown",
   "metadata": {},
   "source": [
    "Helper-functions for the classification accuracy\n",
    "====================================================\n",
    "This function calculates the classification accuracy given a boolean array whether each image was correctly classified. E.g. classification_accuracy([True, True, False, False, False]) = 2/5 = 0.4. The function also returns the number of correct classifications."
   ]
  },
  {
   "cell_type": "code",
   "execution_count": 49,
   "metadata": {
    "collapsed": true
   },
   "outputs": [],
   "source": [
    "def classification_accuracy(correct):\n",
    "    # Average a boolean array: False means 0 and True is 1.\n",
    "    # Calculate the accuracy using the formula: Number of True / len(correct)\n",
    "    \n",
    "    # Return the classification accuracy and the number of correct\n",
    "    # classifications.\n",
    "    \n",
    "    return correct.mean(), correct.sum()"
   ]
  },
  {
   "cell_type": "markdown",
   "metadata": {},
   "source": [
    "Helper-function for showing the performance\n",
    "===========================================\n",
    "\n",
    "Function for printing the classification accuracy on the test-set."
   ]
  },
  {
   "cell_type": "code",
   "execution_count": 50,
   "metadata": {
    "collapsed": true
   },
   "outputs": [],
   "source": [
    "def print_test_accuracy(show_example_errors=False,\n",
    "                       show_confusion_matrix=False):\n",
    "    \n",
    "    # For all images in the testing set, \n",
    "    # Calculate the predicted classes and whether they are correct.\n",
    "    \n",
    "    correct, cls_pred = predict_cls_test()\n",
    "    \n",
    "    # Classification accuracy and the number of correct\n",
    "    # classifications.\n",
    "    acc, num_correct = classification_accuracy(correct)\n",
    "    \n",
    "    # Number of images being classified.\n",
    "    num_images = len(correct)\n",
    "    \n",
    "    # Print the accuracy.\n",
    "    message = \"Accuracy on Test-Set: {0:.1%} ({1} / {2})\"\n",
    "    print(message.format(acc, num_correct, num_images))\n",
    "    \n",
    "    # Plot some examples of mis-classifications, if desired.\n",
    "    if show_example_errors:\n",
    "        print(\"Example errors: \")\n",
    "        plot_example_errors(cls_pred=cls_pred, correct=correct)\n",
    "        \n",
    "    # Plot the confusion matrix, if desired.\n",
    "    if show_confusion_matrix:\n",
    "        print(\"Confusion Matrix:\")\n",
    "        plot_confusion_matrix(cls_pred=cls_pred)"
   ]
  },
  {
   "cell_type": "markdown",
   "metadata": {},
   "source": [
    "Helper-function for plotting ConvNet weights\n",
    "==============================================\n",
    "\n"
   ]
  },
  {
   "cell_type": "code",
   "execution_count": 51,
   "metadata": {
    "collapsed": true
   },
   "outputs": [],
   "source": [
    "def plot_conv_weights(weights, input_channel=0):\n",
    "    # Assume weights are TensorFlow ops for 4-dim variables\n",
    "    # e.g. weights_conv1 or weights_conv2.\n",
    "    \n",
    "    # Retrieve the values of the weight-variables from TensorFlow.\n",
    "    # A feed-dict is not necessary because nothing is calculated.\n",
    "    w = session.run(weights)\n",
    "    \n",
    "    \n",
    "    # Print statistics for the weights.\n",
    "    print(\"Min:   {0:.5f}, Max:   {1:.5f}\".format(w.min(), w.max()))\n",
    "    print(\"Mean:   {0:.5f}, Stdev:   {1:.5f}\".format(w.mean(), w.std()))\n",
    "    \n",
    "    # Get the lowest and highest values for the weights.\n",
    "    # They are used to correct the colour intensity accross the images\n",
    "    # so that they can be compared with each other.\n",
    "    \n",
    "    w_min = np.min(w)\n",
    "    w_max = np.max(w)\n",
    "    abs_max = max(abs(w_min), abs(w_max))\n",
    "    \n",
    "    # Number of filters used in the conv. layer.\n",
    "    num_filters = w.shape[3]\n",
    "    \n",
    "    # Number of grids to plot.\n",
    "    # Rounded-up, square-root of the number of filters.\n",
    "    num_grids = math.ceil(math.sqrt(num_filters))\n",
    "    \n",
    "    # Create figure with a grid of sub-plots.\n",
    "    fig, axes = plt.subplots(num_grids, num_grids)\n",
    "    \n",
    "    # Plot all the filter-weights.\n",
    "    for i, ax in enumerate(axes.flat):\n",
    "        # Only plot the valid filter-weights.\n",
    "        \n",
    "        if i < num_filters:\n",
    "            # Get the weights for the i'th filter of the input channel.\n",
    "            # The format of this 4-dim tensor is determined by TensorFlow.\n",
    "            \n",
    "            img = w[:, :, input_channel, i]\n",
    "            \n",
    "            # Plot image.\n",
    "            ax.imshow(img, vmin=-abs_max, vmax=abs_max, interpolation='nearest', cmap='seismic')\n",
    "            \n",
    "        # Remove ticks from the plot.\n",
    "        ax.set_xticks([])\n",
    "        ax.set_yticks([])\n",
    "        \n",
    "    # Ensure the plot is shown correctly\n",
    "    plt.show()\n",
    "    "
   ]
  },
  {
   "cell_type": "markdown",
   "metadata": {},
   "source": [
    "Helper-function for plotting the output of convolutional layers\n",
    "================================================================="
   ]
  },
  {
   "cell_type": "code",
   "execution_count": 52,
   "metadata": {
    "collapsed": true
   },
   "outputs": [],
   "source": [
    "def plot_layer_output(layer_output, image):\n",
    "    # Assume layer_output is a 4 dim tensor\n",
    "    \n",
    "    # Create a feed-dict which holds the single input image.\n",
    "    feed_dict = {x: [image]}\n",
    "    \n",
    "    # Retrieve the output of the layer after inputting this image.\n",
    "    values = session.run(layer_output, feed_dict=feed_dict)\n",
    "    \n",
    "    # Get the lowest and highest values.\n",
    "    # This is used to correct the colour intensity across\n",
    "    # The images so they can be compared with each other.\n",
    "    \n",
    "    values_min = np.min(values)\n",
    "    values_max = np.max(values)\n",
    "    \n",
    "    # Number of image channels output by the convolutional layer.\n",
    "    num_images = values.shape[3]\n",
    "    \n",
    "    # Number of grid-cells to plot.\n",
    "    # Rounded-up, square-root of the number of filters.\n",
    "    num_grids = math.ceil(math.sqrt(num_images))\n",
    "    \n",
    "    # Create figure with a grid of subplots.\n",
    "    fig, axes = plt.subplots(num_grids, num_grids)\n",
    "    \n",
    "    # Plot all the filter-weights.\n",
    "    for i, ax in enumerate(axes.flat):\n",
    "        # Only plot the valid image-channels.\n",
    "        if i < num_images:\n",
    "            # Get the images for the i'th output channel.\n",
    "            img = values[0, :, :, i]\n",
    "            \n",
    "            # Plot image.\n",
    "            ax.imshow(img, vmin=values_min, vmax=values_max, interpolation='nearest', cmap='binary')\n",
    "            \n",
    "        # Remove ticks from the plot\n",
    "        ax.set_xticks([])\n",
    "        ax.set_yticks([])\n",
    "        \n",
    "    # Ensure the plot is shown correctly.\n",
    "    plt.show()"
   ]
  },
  {
   "cell_type": "markdown",
   "metadata": {},
   "source": [
    "Examples of distorted input images\n",
    "=====================================\n",
    "In the Helper-function for creating Pre-Processing -- **pre_process_images()** -- the input images are randomly cropped, randomly flipped horizontally, and the hue, and contrast and saturation is adjust with random values. This is used as a data augmentation technique as a solution to the problem of  highly imbalanced dataset. This was done in the hope that the ConvNet is more flexible at recognizing and classifying images."
   ]
  },
  {
   "cell_type": "code",
   "execution_count": 53,
   "metadata": {
    "collapsed": true
   },
   "outputs": [],
   "source": [
    "# Helper-function for plotting distorted input images.\n",
    "def plot_distorted_image(image, cls_true):\n",
    "    # Repeat the input image  9 times.\n",
    "    image_duplicates = np.repeat(image[np.newaxis, :, :, :], 9, axis=0)\n",
    "    \n",
    "    # Create a feed-dict for TensorFlow.\n",
    "    feed_dict = {x: image_duplicates}\n",
    "    \n",
    "    # Calculate only the pre-processing of the TensorFlow graph which distorts\n",
    "    # the image in the feed_dict.\n",
    "    result = session.run(distorted_images, feed_dict=feed_dict)\n",
    "    \n",
    "    # Plot the images.\n",
    "    plot_images(images=result, cls_true=np.repeat(cls_true, 9))"
   ]
  },
  {
   "cell_type": "code",
   "execution_count": 54,
   "metadata": {
    "collapsed": true
   },
   "outputs": [],
   "source": [
    "# Hepler-function for getting an image and its class-id from the test set\n",
    "def get_test_image(i):\n",
    "    return images_test[i, :, :, :], cls_test[i]\n"
   ]
  },
  {
   "cell_type": "code",
   "execution_count": 58,
   "metadata": {
    "collapsed": true
   },
   "outputs": [],
   "source": [
    "# Get an image and its true from the test set\n",
    "img, cls = get_test_image(100)"
   ]
  },
  {
   "cell_type": "code",
   "execution_count": 59,
   "metadata": {
    "collapsed": false
   },
   "outputs": [
    {
     "data": {
      "image/png": "[encoded data removed]",
      "text/plain": [
       "<matplotlib.figure.Figure at 0x1d70ed360b8>"
      ]
     },
     "metadata": {},
     "output_type": "display_data"
    }
   ],
   "source": [
    "# plot 9 random distortions of the image. Every time the cell is executed, you get slightly different results\n",
    "plot_distorted_image(img, cls)"
   ]
  },
  {
   "cell_type": "markdown",
   "metadata": {},
   "source": [
    "Perform Optimization\n",
    "===========================\n",
    "Because we are saving the checkpoints during optimization, and because we are restoring the latest checkpoint when restarting the code, we can stop and continue the optimization later."
   ]
  },
  {
   "cell_type": "markdown",
   "metadata": {},
   "source": [
    "TODO: Results\n",
    "===================\n"
   ]
  },
  {
   "cell_type": "code",
   "execution_count": 57,
   "metadata": {
    "collapsed": false
   },
   "outputs": [
    {
     "name": "stdout",
     "output_type": "stream",
     "text": [
      "Saved checkpoint.\n",
      "Saved checkpoint.\n",
      "Saved checkpoint.\n",
      "Saved checkpoint.\n",
      "Saved checkpoint.\n",
      "Saved checkpoint.\n",
      "Saved checkpoint.\n",
      "Saved checkpoint.\n",
      "Saved checkpoint.\n",
      "Saved checkpoint.\n",
      "Saved checkpoint.\n",
      "Saved checkpoint.\n",
      "Saved checkpoint.\n",
      "Saved checkpoint.\n",
      "Saved checkpoint.\n",
      "Saved checkpoint.\n",
      "Saved checkpoint.\n",
      "Saved checkpoint.\n",
      "Saved checkpoint.\n",
      "Saved checkpoint.\n",
      "Saved checkpoint.\n",
      "Saved checkpoint.\n",
      "Saved checkpoint.\n",
      "Saved checkpoint.\n",
      "Saved checkpoint.\n",
      "Saved checkpoint.\n",
      "Saved checkpoint.\n",
      "Saved checkpoint.\n",
      "Saved checkpoint.\n",
      "Saved checkpoint.\n",
      "Saved checkpoint.\n",
      "Saved checkpoint.\n",
      "Saved checkpoint.\n",
      "Saved checkpoint.\n",
      "Saved checkpoint.\n",
      "Saved checkpoint.\n",
      "Saved checkpoint.\n",
      "Saved checkpoint.\n",
      "Saved checkpoint.\n",
      "Saved checkpoint.\n",
      "Saved checkpoint.\n",
      "Saved checkpoint.\n",
      "Saved checkpoint.\n",
      "Saved checkpoint.\n",
      "Saved checkpoint.\n",
      "Saved checkpoint.\n",
      "Saved checkpoint.\n",
      "Saved checkpoint.\n",
      "Saved checkpoint.\n",
      "Saved checkpoint.\n",
      "Saved checkpoint.\n",
      "Saved checkpoint.\n",
      "Saved checkpoint.\n",
      "Saved checkpoint.\n",
      "Saved checkpoint.\n",
      "Saved checkpoint.\n",
      "Saved checkpoint.\n",
      "Saved checkpoint.\n",
      "Saved checkpoint.\n",
      "Saved checkpoint.\n",
      "Saved checkpoint.\n",
      "Saved checkpoint.\n",
      "Saved checkpoint.\n",
      "Saved checkpoint.\n",
      "Saved checkpoint.\n",
      "Saved checkpoint.\n",
      "Saved checkpoint.\n",
      "Saved checkpoint.\n",
      "Saved checkpoint.\n",
      "Saved checkpoint.\n",
      "Saved checkpoint.\n",
      "Saved checkpoint.\n",
      "Saved checkpoint.\n",
      "Saved checkpoint.\n",
      "Saved checkpoint.\n",
      "Saved checkpoint.\n",
      "Saved checkpoint.\n",
      "Saved checkpoint.\n",
      "Saved checkpoint.\n",
      "Saved checkpoint.\n",
      "Saved checkpoint.\n",
      "Saved checkpoint.\n",
      "Saved checkpoint.\n",
      "Saved checkpoint.\n",
      "Saved checkpoint.\n",
      "Saved checkpoint.\n",
      "Saved checkpoint.\n",
      "Saved checkpoint.\n",
      "Saved checkpoint.\n",
      "Saved checkpoint.\n",
      "Saved checkpoint.\n",
      "Saved checkpoint.\n",
      "Saved checkpoint.\n",
      "Saved checkpoint.\n",
      "Saved checkpoint.\n",
      "Saved checkpoint.\n",
      "Saved checkpoint.\n",
      "Saved checkpoint.\n",
      "Saved checkpoint.\n",
      "Saved checkpoint.\n",
      "Saved checkpoint.\n",
      "Saved checkpoint.\n",
      "Saved checkpoint.\n",
      "Saved checkpoint.\n",
      "Saved checkpoint.\n",
      "Saved checkpoint.\n",
      "Saved checkpoint.\n",
      "Saved checkpoint.\n",
      "Saved checkpoint.\n",
      "Saved checkpoint.\n",
      "Saved checkpoint.\n",
      "Saved checkpoint.\n",
      "Saved checkpoint.\n",
      "Saved checkpoint.\n",
      "Saved checkpoint.\n",
      "Saved checkpoint.\n",
      "Saved checkpoint.\n",
      "Saved checkpoint.\n",
      "Saved checkpoint.\n",
      "Saved checkpoint.\n",
      "Saved checkpoint.\n",
      "Saved checkpoint.\n",
      "Saved checkpoint.\n",
      "Saved checkpoint.\n",
      "Saved checkpoint.\n",
      "Saved checkpoint.\n",
      "Saved checkpoint.\n",
      "Saved checkpoint.\n",
      "Saved checkpoint.\n",
      "Saved checkpoint.\n",
      "Saved checkpoint.\n",
      "Saved checkpoint.\n",
      "Saved checkpoint.\n",
      "Saved checkpoint.\n",
      "Saved checkpoint.\n",
      "Saved checkpoint.\n",
      "Saved checkpoint.\n",
      "Saved checkpoint.\n",
      "Saved checkpoint.\n",
      "Saved checkpoint.\n",
      "Saved checkpoint.\n",
      "Saved checkpoint.\n",
      "Saved checkpoint.\n",
      "Saved checkpoint.\n",
      "Saved checkpoint.\n",
      "Saved checkpoint.\n",
      "Saved checkpoint.\n",
      "Saved checkpoint.\n",
      "Saved checkpoint.\n",
      "Saved checkpoint.\n",
      "Saved checkpoint.\n",
      "Saved checkpoint.\n",
      "Saved checkpoint.\n",
      "Saved checkpoint.\n",
      "Saved checkpoint.\n",
      "Saved checkpoint.\n",
      "Saved checkpoint.\n",
      "Saved checkpoint.\n",
      "Saved checkpoint.\n",
      "Saved checkpoint.\n",
      "Saved checkpoint.\n",
      "Saved checkpoint.\n",
      "Saved checkpoint.\n",
      "Saved checkpoint.\n",
      "Saved checkpoint.\n",
      "Saved checkpoint.\n",
      "Saved checkpoint.\n",
      "Saved checkpoint.\n",
      "Saved checkpoint.\n",
      "Saved checkpoint.\n",
      "Saved checkpoint.\n",
      "Saved checkpoint.\n",
      "Saved checkpoint.\n",
      "Saved checkpoint.\n",
      "Saved checkpoint.\n",
      "Saved checkpoint.\n",
      "Saved checkpoint.\n",
      "Saved checkpoint.\n",
      "Saved checkpoint.\n",
      "Saved checkpoint.\n",
      "Saved checkpoint.\n",
      "Saved checkpoint.\n",
      "Saved checkpoint.\n",
      "Saved checkpoint.\n",
      "Saved checkpoint.\n",
      "Saved checkpoint.\n",
      "Saved checkpoint.\n",
      "Saved checkpoint.\n",
      "Saved checkpoint.\n",
      "Saved checkpoint.\n",
      "Saved checkpoint.\n",
      "Saved checkpoint.\n",
      "Saved checkpoint.\n",
      "Saved checkpoint.\n",
      "Saved checkpoint.\n",
      "Saved checkpoint.\n",
      "Saved checkpoint.\n",
      "Saved checkpoint.\n",
      "Saved checkpoint.\n",
      "Saved checkpoint.\n",
      "Saved checkpoint.\n",
      "Saved checkpoint.\n",
      "Saved checkpoint.\n",
      "Saved checkpoint.\n",
      "Saved checkpoint.\n",
      "Saved checkpoint.\n",
      "Saved checkpoint.\n",
      "Saved checkpoint.\n",
      "Saved checkpoint.\n",
      "Saved checkpoint.\n",
      "Saved checkpoint.\n",
      "Saved checkpoint.\n",
      "Saved checkpoint.\n",
      "Saved checkpoint.\n",
      "Saved checkpoint.\n",
      "Saved checkpoint.\n",
      "Saved checkpoint.\n",
      "Saved checkpoint.\n",
      "Saved checkpoint.\n",
      "Saved checkpoint.\n",
      "Saved checkpoint.\n",
      "Saved checkpoint.\n",
      "Saved checkpoint.\n",
      "Saved checkpoint.\n",
      "Saved checkpoint.\n",
      "Saved checkpoint.\n",
      "Saved checkpoint.\n",
      "Saved checkpoint.\n",
      "Saved checkpoint.\n",
      "Saved checkpoint.\n",
      "Saved checkpoint.\n",
      "Saved checkpoint.\n",
      "Saved checkpoint.\n",
      "Saved checkpoint.\n",
      "Saved checkpoint.\n",
      "Saved checkpoint.\n",
      "Saved checkpoint.\n",
      "Saved checkpoint.\n",
      "Saved checkpoint.\n",
      "Saved checkpoint.\n",
      "Saved checkpoint.\n",
      "Saved checkpoint.\n",
      "Saved checkpoint.\n",
      "Saved checkpoint.\n",
      "Saved checkpoint.\n",
      "Saved checkpoint.\n",
      "Saved checkpoint.\n",
      "Saved checkpoint.\n",
      "Saved checkpoint.\n",
      "Saved checkpoint.\n",
      "Saved checkpoint.\n",
      "Saved checkpoint.\n",
      "Saved checkpoint.\n",
      "Saved checkpoint.\n",
      "Saved checkpoint.\n",
      "Saved checkpoint.\n",
      "Saved checkpoint.\n",
      "Saved checkpoint.\n",
      "Saved checkpoint.\n",
      "Saved checkpoint.\n",
      "Saved checkpoint.\n",
      "Saved checkpoint.\n",
      "Saved checkpoint.\n",
      "Saved checkpoint.\n",
      "Saved checkpoint.\n",
      "Saved checkpoint.\n",
      "Saved checkpoint.\n",
      "Saved checkpoint.\n",
      "Saved checkpoint.\n",
      "Saved checkpoint.\n",
      "Saved checkpoint.\n",
      "Saved checkpoint.\n",
      "Saved checkpoint.\n",
      "Saved checkpoint.\n",
      "Saved checkpoint.\n",
      "Saved checkpoint.\n",
      "Saved checkpoint.\n",
      "Saved checkpoint.\n",
      "Saved checkpoint.\n",
      "Saved checkpoint.\n",
      "Saved checkpoint.\n",
      "Saved checkpoint.\n",
      "Saved checkpoint.\n",
      "Saved checkpoint.\n",
      "Saved checkpoint.\n",
      "Saved checkpoint.\n",
      "Saved checkpoint.\n",
      "Saved checkpoint.\n",
      "Saved checkpoint.\n",
      "Saved checkpoint.\n",
      "Saved checkpoint.\n",
      "Saved checkpoint.\n",
      "Saved checkpoint.\n",
      "Saved checkpoint.\n",
      "Saved checkpoint.\n",
      "Saved checkpoint.\n",
      "Saved checkpoint.\n",
      "Saved checkpoint.\n",
      "Saved checkpoint.\n",
      "Saved checkpoint.\n",
      "Saved checkpoint.\n",
      "Saved checkpoint.\n",
      "Saved checkpoint.\n",
      "Saved checkpoint.\n",
      "Saved checkpoint.\n",
      "Saved checkpoint.\n",
      "Saved checkpoint.\n",
      "Saved checkpoint.\n",
      "Saved checkpoint.\n",
      "Saved checkpoint.\n",
      "Saved checkpoint.\n",
      "Saved checkpoint.\n",
      "Saved checkpoint.\n",
      "Saved checkpoint.\n",
      "Saved checkpoint.\n",
      "Saved checkpoint.\n",
      "Saved checkpoint.\n",
      "Saved checkpoint.\n",
      "Saved checkpoint.\n",
      "Saved checkpoint.\n",
      "Saved checkpoint.\n",
      "Saved checkpoint.\n",
      "Saved checkpoint.\n",
      "Saved checkpoint.\n",
      "Saved checkpoint.\n",
      "Saved checkpoint.\n",
      "Saved checkpoint.\n",
      "Saved checkpoint.\n",
      "Saved checkpoint.\n",
      "Saved checkpoint.\n",
      "Saved checkpoint.\n",
      "Saved checkpoint.\n",
      "Saved checkpoint.\n",
      "Saved checkpoint.\n",
      "Saved checkpoint.\n",
      "Saved checkpoint.\n",
      "Saved checkpoint.\n",
      "Saved checkpoint.\n",
      "Saved checkpoint.\n",
      "Saved checkpoint.\n",
      "Saved checkpoint.\n",
      "Saved checkpoint.\n",
      "Saved checkpoint.\n",
      "Saved checkpoint.\n",
      "Saved checkpoint.\n",
      "Saved checkpoint.\n",
      "Saved checkpoint.\n",
      "Saved checkpoint.\n",
      "Saved checkpoint.\n",
      "Saved checkpoint.\n",
      "Saved checkpoint.\n",
      "Saved checkpoint.\n",
      "Saved checkpoint.\n",
      "Saved checkpoint.\n",
      "Saved checkpoint.\n",
      "Saved checkpoint.\n",
      "Saved checkpoint.\n",
      "Saved checkpoint.\n",
      "Saved checkpoint.\n",
      "Saved checkpoint.\n",
      "Saved checkpoint.\n",
      "Saved checkpoint.\n",
      "Saved checkpoint.\n",
      "Saved checkpoint.\n",
      "Saved checkpoint.\n",
      "Saved checkpoint.\n",
      "Saved checkpoint.\n",
      "Saved checkpoint.\n",
      "Saved checkpoint.\n",
      "Saved checkpoint.\n",
      "Saved checkpoint.\n",
      "Saved checkpoint.\n",
      "Saved checkpoint.\n",
      "Saved checkpoint.\n",
      "Saved checkpoint.\n",
      "Saved checkpoint.\n",
      "Saved checkpoint.\n",
      "Saved checkpoint.\n",
      "Saved checkpoint.\n",
      "Saved checkpoint.\n",
      "Saved checkpoint.\n",
      "Saved checkpoint.\n",
      "Saved checkpoint.\n",
      "Saved checkpoint.\n",
      "Saved checkpoint.\n",
      "Saved checkpoint.\n",
      "Saved checkpoint.\n",
      "Saved checkpoint.\n",
      "Saved checkpoint.\n",
      "Saved checkpoint.\n",
      "Saved checkpoint.\n",
      "Saved checkpoint.\n",
      "Saved checkpoint.\n",
      "Saved checkpoint.\n",
      "Saved checkpoint.\n",
      "Saved checkpoint.\n",
      "Saved checkpoint.\n",
      "Saved checkpoint.\n",
      "Saved checkpoint.\n",
      "Saved checkpoint.\n",
      "Saved checkpoint.\n",
      "Saved checkpoint.\n",
      "Saved checkpoint.\n",
      "Saved checkpoint.\n",
      "Saved checkpoint.\n",
      "Saved checkpoint.\n",
      "Saved checkpoint.\n",
      "Saved checkpoint.\n",
      "Saved checkpoint.\n",
      "Saved checkpoint.\n",
      "Saved checkpoint.\n",
      "Saved checkpoint.\n",
      "Saved checkpoint.\n",
      "Saved checkpoint.\n",
      "Saved checkpoint.\n",
      "Saved checkpoint.\n",
      "Saved checkpoint.\n",
      "Saved checkpoint.\n",
      "Saved checkpoint.\n",
      "Saved checkpoint.\n",
      "Saved checkpoint.\n",
      "Saved checkpoint.\n",
      "Saved checkpoint.\n",
      "Saved checkpoint.\n",
      "Saved checkpoint.\n",
      "Saved checkpoint.\n",
      "Saved checkpoint.\n",
      "Saved checkpoint.\n",
      "Saved checkpoint.\n",
      "Saved checkpoint.\n",
      "Saved checkpoint.\n",
      "Saved checkpoint.\n",
      "Saved checkpoint.\n",
      "Saved checkpoint.\n",
      "Saved checkpoint.\n",
      "Saved checkpoint.\n",
      "Saved checkpoint.\n",
      "Saved checkpoint.\n",
      "Saved checkpoint.\n",
      "Saved checkpoint.\n",
      "Saved checkpoint.\n",
      "Saved checkpoint.\n",
      "Saved checkpoint.\n",
      "Saved checkpoint.\n",
      "Saved checkpoint.\n",
      "Saved checkpoint.\n",
      "Saved checkpoint.\n",
      "Saved checkpoint.\n",
      "Saved checkpoint.\n",
      "Saved checkpoint.\n",
      "Saved checkpoint.\n",
      "Saved checkpoint.\n",
      "Saved checkpoint.\n",
      "Saved checkpoint.\n",
      "Saved checkpoint.\n",
      "Saved checkpoint.\n",
      "Saved checkpoint.\n",
      "Saved checkpoint.\n",
      "Saved checkpoint.\n",
      "Saved checkpoint.\n",
      "Saved checkpoint.\n",
      "Saved checkpoint.\n",
      "Saved checkpoint.\n",
      "Saved checkpoint.\n",
      "Saved checkpoint.\n",
      "Saved checkpoint.\n",
      "Saved checkpoint.\n",
      "Saved checkpoint.\n",
      "Saved checkpoint.\n",
      "Saved checkpoint.\n",
      "Saved checkpoint.\n",
      "Saved checkpoint.\n",
      "Saved checkpoint.\n",
      "Saved checkpoint.\n",
      "Saved checkpoint.\n",
      "Saved checkpoint.\n",
      "Saved checkpoint.\n",
      "Saved checkpoint.\n",
      "Saved checkpoint.\n",
      "Saved checkpoint.\n",
      "Saved checkpoint.\n",
      "Saved checkpoint.\n",
      "Saved checkpoint.\n",
      "Saved checkpoint.\n",
      "Saved checkpoint.\n",
      "Saved checkpoint.\n",
      "Saved checkpoint.\n",
      "Saved checkpoint.\n",
      "Saved checkpoint.\n",
      "Saved checkpoint.\n",
      "Saved checkpoint.\n",
      "Saved checkpoint.\n",
      "Saved checkpoint.\n",
      "Saved checkpoint.\n",
      "Saved checkpoint.\n",
      "Saved checkpoint.\n",
      "Saved checkpoint.\n",
      "Saved checkpoint.\n",
      "Saved checkpoint.\n",
      "Saved checkpoint.\n",
      "Saved checkpoint.\n",
      "Saved checkpoint.\n",
      "Saved checkpoint.\n",
      "Saved checkpoint.\n",
      "Saved checkpoint.\n",
      "Saved checkpoint.\n",
      "Saved checkpoint.\n",
      "Saved checkpoint.\n",
      "Saved checkpoint.\n",
      "Saved checkpoint.\n",
      "Saved checkpoint.\n",
      "Saved checkpoint.\n",
      "Saved checkpoint.\n",
      "Saved checkpoint.\n",
      "Saved checkpoint.\n",
      "Saved checkpoint.\n",
      "Saved checkpoint.\n",
      "Saved checkpoint.\n",
      "Saved checkpoint.\n",
      "Saved checkpoint.\n",
      "Saved checkpoint.\n",
      "Saved checkpoint.\n",
      "Saved checkpoint.\n",
      "Saved checkpoint.\n",
      "Saved checkpoint.\n",
      "Saved checkpoint.\n",
      "Saved checkpoint.\n",
      "Saved checkpoint.\n",
      "Saved checkpoint.\n",
      "Saved checkpoint.\n",
      "Saved checkpoint.\n",
      "Saved checkpoint.\n",
      "Saved checkpoint.\n",
      "Saved checkpoint.\n",
      "Saved checkpoint.\n",
      "Saved checkpoint.\n",
      "Saved checkpoint.\n",
      "Saved checkpoint.\n",
      "Saved checkpoint.\n",
      "Saved checkpoint.\n",
      "Saved checkpoint.\n",
      "Saved checkpoint.\n",
      "Saved checkpoint.\n",
      "Saved checkpoint.\n",
      "Saved checkpoint.\n",
      "Saved checkpoint.\n",
      "Saved checkpoint.\n",
      "Saved checkpoint.\n",
      "Saved checkpoint.\n",
      "Saved checkpoint.\n",
      "Saved checkpoint.\n",
      "Saved checkpoint.\n",
      "Saved checkpoint.\n",
      "Saved checkpoint.\n",
      "Saved checkpoint.\n",
      "Saved checkpoint.\n",
      "Saved checkpoint.\n",
      "Saved checkpoint.\n",
      "Saved checkpoint.\n",
      "Saved checkpoint.\n",
      "Saved checkpoint.\n",
      "Saved checkpoint.\n",
      "Saved checkpoint.\n",
      "Saved checkpoint.\n",
      "Saved checkpoint.\n",
      "Saved checkpoint.\n",
      "Saved checkpoint.\n",
      "Saved checkpoint.\n",
      "Saved checkpoint.\n",
      "Saved checkpoint.\n",
      "Saved checkpoint.\n",
      "Saved checkpoint.\n",
      "Saved checkpoint.\n",
      "Saved checkpoint.\n",
      "Saved checkpoint.\n",
      "Saved checkpoint.\n",
      "Saved checkpoint.\n",
      "Saved checkpoint.\n",
      "Saved checkpoint.\n",
      "Saved checkpoint.\n",
      "Saved checkpoint.\n",
      "Saved checkpoint.\n",
      "Saved checkpoint.\n",
      "Saved checkpoint.\n",
      "Saved checkpoint.\n",
      "Saved checkpoint.\n",
      "Saved checkpoint.\n",
      "Saved checkpoint.\n",
      "Saved checkpoint.\n",
      "Saved checkpoint.\n",
      "Saved checkpoint.\n",
      "Saved checkpoint.\n",
      "Saved checkpoint.\n",
      "Saved checkpoint.\n",
      "Saved checkpoint.\n",
      "Saved checkpoint.\n",
      "Saved checkpoint.\n",
      "Saved checkpoint.\n",
      "Saved checkpoint.\n",
      "Saved checkpoint.\n",
      "Saved checkpoint.\n",
      "Saved checkpoint.\n",
      "Saved checkpoint.\n",
      "Saved checkpoint.\n",
      "Saved checkpoint.\n",
      "Saved checkpoint.\n",
      "Saved checkpoint.\n",
      "Saved checkpoint.\n",
      "Saved checkpoint.\n",
      "Saved checkpoint.\n",
      "Saved checkpoint.\n",
      "Saved checkpoint.\n",
      "Saved checkpoint.\n",
      "Saved checkpoint.\n",
      "Saved checkpoint.\n",
      "Saved checkpoint.\n",
      "Saved checkpoint.\n",
      "Saved checkpoint.\n",
      "Saved checkpoint.\n",
      "Saved checkpoint.\n",
      "Saved checkpoint.\n",
      "Saved checkpoint.\n",
      "Saved checkpoint.\n",
      "Saved checkpoint.\n",
      "Saved checkpoint.\n",
      "Saved checkpoint.\n",
      "Saved checkpoint.\n",
      "Saved checkpoint.\n",
      "Saved checkpoint.\n",
      "Saved checkpoint.\n",
      "Saved checkpoint.\n",
      "Saved checkpoint.\n",
      "Saved checkpoint.\n",
      "Saved checkpoint.\n",
      "Saved checkpoint.\n",
      "Saved checkpoint.\n",
      "Saved checkpoint.\n",
      "Saved checkpoint.\n",
      "Saved checkpoint.\n",
      "Saved checkpoint.\n",
      "Saved checkpoint.\n",
      "Saved checkpoint.\n",
      "Saved checkpoint.\n",
      "Saved checkpoint.\n",
      "Saved checkpoint.\n",
      "Saved checkpoint.\n",
      "Saved checkpoint.\n",
      "Saved checkpoint.\n",
      "Saved checkpoint.\n",
      "Saved checkpoint.\n",
      "Saved checkpoint.\n",
      "Saved checkpoint.\n",
      "Saved checkpoint.\n",
      "Saved checkpoint.\n",
      "Saved checkpoint.\n",
      "Saved checkpoint.\n",
      "Saved checkpoint.\n",
      "Saved checkpoint.\n",
      "Saved checkpoint.\n",
      "Saved checkpoint.\n",
      "Saved checkpoint.\n",
      "Saved checkpoint.\n",
      "Saved checkpoint.\n",
      "Saved checkpoint.\n",
      "Saved checkpoint.\n",
      "Saved checkpoint.\n",
      "Saved checkpoint.\n",
      "Saved checkpoint.\n",
      "Saved checkpoint.\n",
      "Saved checkpoint.\n",
      "Saved checkpoint.\n",
      "Saved checkpoint.\n",
      "Saved checkpoint.\n",
      "Saved checkpoint.\n",
      "Saved checkpoint.\n",
      "Saved checkpoint.\n",
      "Saved checkpoint.\n",
      "Saved checkpoint.\n",
      "Saved checkpoint.\n",
      "Saved checkpoint.\n",
      "Saved checkpoint.\n",
      "Saved checkpoint.\n",
      "Saved checkpoint.\n",
      "Saved checkpoint.\n",
      "Saved checkpoint.\n",
      "Saved checkpoint.\n",
      "Saved checkpoint.\n",
      "Saved checkpoint.\n",
      "Saved checkpoint.\n",
      "Saved checkpoint.\n",
      "Saved checkpoint.\n"
     ]
    },
    {
     "ename": "KeyboardInterrupt",
     "evalue": "",
     "output_type": "error",
     "traceback": [
      "\u001b[0;31m---------------------------------------------------------------------------\u001b[0m",
      "\u001b[0;31mKeyboardInterrupt\u001b[0m                         Traceback (most recent call last)",
      "\u001b[0;32m<ipython-input-57-c5f7ed1c4aa6>\u001b[0m in \u001b[0;36m<module>\u001b[0;34m()\u001b[0m\n\u001b[1;32m      1\u001b[0m \u001b[1;32mif\u001b[0m \u001b[1;32mTrue\u001b[0m\u001b[1;33m:\u001b[0m\u001b[1;33m\u001b[0m\u001b[0m\n\u001b[0;32m----> 2\u001b[0;31m     \u001b[0moptimize\u001b[0m\u001b[1;33m(\u001b[0m\u001b[0mnum_iterations\u001b[0m\u001b[1;33m=\u001b[0m\u001b[1;36m100000\u001b[0m\u001b[1;33m)\u001b[0m\u001b[1;33m\u001b[0m\u001b[0m\n\u001b[0m",
      "\u001b[0;32m<ipython-input-44-f66ee5d00301>\u001b[0m in \u001b[0;36moptimize\u001b[0;34m(num_iterations)\u001b[0m\n\u001b[1;32m     22\u001b[0m \u001b[1;33m\u001b[0m\u001b[0m\n\u001b[1;32m     23\u001b[0m         i_global, _ = session.run([global_step, optimizer],\n\u001b[0;32m---> 24\u001b[0;31m                                  feed_dict=feed_dict_train)\n\u001b[0m\u001b[1;32m     25\u001b[0m \u001b[1;33m\u001b[0m\u001b[0m\n\u001b[1;32m     26\u001b[0m         \u001b[1;31m# Print status to screen every 100 iterations and  last.\u001b[0m\u001b[1;33m\u001b[0m\u001b[1;33m\u001b[0m\u001b[0m\n",
      "\u001b[0;32mC:\\Users\\qubit\\Anaconda2\\envs\\py3\\lib\\site-packages\\tensorflow\\python\\client\\session.py\u001b[0m in \u001b[0;36mrun\u001b[0;34m(self, fetches, feed_dict, options, run_metadata)\u001b[0m\n\u001b[1;32m    764\u001b[0m     \u001b[1;32mtry\u001b[0m\u001b[1;33m:\u001b[0m\u001b[1;33m\u001b[0m\u001b[0m\n\u001b[1;32m    765\u001b[0m       result = self._run(None, fetches, feed_dict, options_ptr,\n\u001b[0;32m--> 766\u001b[0;31m                          run_metadata_ptr)\n\u001b[0m\u001b[1;32m    767\u001b[0m       \u001b[1;32mif\u001b[0m \u001b[0mrun_metadata\u001b[0m\u001b[1;33m:\u001b[0m\u001b[1;33m\u001b[0m\u001b[0m\n\u001b[1;32m    768\u001b[0m         \u001b[0mproto_data\u001b[0m \u001b[1;33m=\u001b[0m \u001b[0mtf_session\u001b[0m\u001b[1;33m.\u001b[0m\u001b[0mTF_GetBuffer\u001b[0m\u001b[1;33m(\u001b[0m\u001b[0mrun_metadata_ptr\u001b[0m\u001b[1;33m)\u001b[0m\u001b[1;33m\u001b[0m\u001b[0m\n",
      "\u001b[0;32mC:\\Users\\qubit\\Anaconda2\\envs\\py3\\lib\\site-packages\\tensorflow\\python\\client\\session.py\u001b[0m in \u001b[0;36m_run\u001b[0;34m(self, handle, fetches, feed_dict, options, run_metadata)\u001b[0m\n\u001b[1;32m    962\u001b[0m     \u001b[1;32mif\u001b[0m \u001b[0mfinal_fetches\u001b[0m \u001b[1;32mor\u001b[0m \u001b[0mfinal_targets\u001b[0m\u001b[1;33m:\u001b[0m\u001b[1;33m\u001b[0m\u001b[0m\n\u001b[1;32m    963\u001b[0m       results = self._do_run(handle, final_targets, final_fetches,\n\u001b[0;32m--> 964\u001b[0;31m                              feed_dict_string, options, run_metadata)\n\u001b[0m\u001b[1;32m    965\u001b[0m     \u001b[1;32melse\u001b[0m\u001b[1;33m:\u001b[0m\u001b[1;33m\u001b[0m\u001b[0m\n\u001b[1;32m    966\u001b[0m       \u001b[0mresults\u001b[0m \u001b[1;33m=\u001b[0m \u001b[1;33m[\u001b[0m\u001b[1;33m]\u001b[0m\u001b[1;33m\u001b[0m\u001b[0m\n",
      "\u001b[0;32mC:\\Users\\qubit\\Anaconda2\\envs\\py3\\lib\\site-packages\\tensorflow\\python\\client\\session.py\u001b[0m in \u001b[0;36m_do_run\u001b[0;34m(self, handle, target_list, fetch_list, feed_dict, options, run_metadata)\u001b[0m\n\u001b[1;32m   1012\u001b[0m     \u001b[1;32mif\u001b[0m \u001b[0mhandle\u001b[0m \u001b[1;32mis\u001b[0m \u001b[1;32mNone\u001b[0m\u001b[1;33m:\u001b[0m\u001b[1;33m\u001b[0m\u001b[0m\n\u001b[1;32m   1013\u001b[0m       return self._do_call(_run_fn, self._session, feed_dict, fetch_list,\n\u001b[0;32m-> 1014\u001b[0;31m                            target_list, options, run_metadata)\n\u001b[0m\u001b[1;32m   1015\u001b[0m     \u001b[1;32melse\u001b[0m\u001b[1;33m:\u001b[0m\u001b[1;33m\u001b[0m\u001b[0m\n\u001b[1;32m   1016\u001b[0m       return self._do_call(_prun_fn, self._session, handle, feed_dict,\n",
      "\u001b[0;32mC:\\Users\\qubit\\Anaconda2\\envs\\py3\\lib\\site-packages\\tensorflow\\python\\client\\session.py\u001b[0m in \u001b[0;36m_do_call\u001b[0;34m(self, fn, *args)\u001b[0m\n\u001b[1;32m   1019\u001b[0m   \u001b[1;32mdef\u001b[0m \u001b[0m_do_call\u001b[0m\u001b[1;33m(\u001b[0m\u001b[0mself\u001b[0m\u001b[1;33m,\u001b[0m \u001b[0mfn\u001b[0m\u001b[1;33m,\u001b[0m \u001b[1;33m*\u001b[0m\u001b[0margs\u001b[0m\u001b[1;33m)\u001b[0m\u001b[1;33m:\u001b[0m\u001b[1;33m\u001b[0m\u001b[0m\n\u001b[1;32m   1020\u001b[0m     \u001b[1;32mtry\u001b[0m\u001b[1;33m:\u001b[0m\u001b[1;33m\u001b[0m\u001b[0m\n\u001b[0;32m-> 1021\u001b[0;31m       \u001b[1;32mreturn\u001b[0m \u001b[0mfn\u001b[0m\u001b[1;33m(\u001b[0m\u001b[1;33m*\u001b[0m\u001b[0margs\u001b[0m\u001b[1;33m)\u001b[0m\u001b[1;33m\u001b[0m\u001b[0m\n\u001b[0m\u001b[1;32m   1022\u001b[0m     \u001b[1;32mexcept\u001b[0m \u001b[0merrors\u001b[0m\u001b[1;33m.\u001b[0m\u001b[0mOpError\u001b[0m \u001b[1;32mas\u001b[0m \u001b[0me\u001b[0m\u001b[1;33m:\u001b[0m\u001b[1;33m\u001b[0m\u001b[0m\n\u001b[1;32m   1023\u001b[0m       \u001b[0mmessage\u001b[0m \u001b[1;33m=\u001b[0m \u001b[0mcompat\u001b[0m\u001b[1;33m.\u001b[0m\u001b[0mas_text\u001b[0m\u001b[1;33m(\u001b[0m\u001b[0me\u001b[0m\u001b[1;33m.\u001b[0m\u001b[0mmessage\u001b[0m\u001b[1;33m)\u001b[0m\u001b[1;33m\u001b[0m\u001b[0m\n",
      "\u001b[0;32mC:\\Users\\qubit\\Anaconda2\\envs\\py3\\lib\\site-packages\\tensorflow\\python\\client\\session.py\u001b[0m in \u001b[0;36m_run_fn\u001b[0;34m(session, feed_dict, fetch_list, target_list, options, run_metadata)\u001b[0m\n\u001b[1;32m   1001\u001b[0m         return tf_session.TF_Run(session, options,\n\u001b[1;32m   1002\u001b[0m                                  \u001b[0mfeed_dict\u001b[0m\u001b[1;33m,\u001b[0m \u001b[0mfetch_list\u001b[0m\u001b[1;33m,\u001b[0m \u001b[0mtarget_list\u001b[0m\u001b[1;33m,\u001b[0m\u001b[1;33m\u001b[0m\u001b[0m\n\u001b[0;32m-> 1003\u001b[0;31m                                  status, run_metadata)\n\u001b[0m\u001b[1;32m   1004\u001b[0m \u001b[1;33m\u001b[0m\u001b[0m\n\u001b[1;32m   1005\u001b[0m     \u001b[1;32mdef\u001b[0m \u001b[0m_prun_fn\u001b[0m\u001b[1;33m(\u001b[0m\u001b[0msession\u001b[0m\u001b[1;33m,\u001b[0m \u001b[0mhandle\u001b[0m\u001b[1;33m,\u001b[0m \u001b[0mfeed_dict\u001b[0m\u001b[1;33m,\u001b[0m \u001b[0mfetch_list\u001b[0m\u001b[1;33m)\u001b[0m\u001b[1;33m:\u001b[0m\u001b[1;33m\u001b[0m\u001b[0m\n",
      "\u001b[0;31mKeyboardInterrupt\u001b[0m: "
     ]
    }
   ],
   "source": [
    "if True:\n",
    "    optimize(num_iterations=100000)"
   ]
  },
  {
   "cell_type": "code",
   "execution_count": 60,
   "metadata": {
    "collapsed": false
   },
   "outputs": [
    {
     "name": "stdout",
     "output_type": "stream",
     "text": [
      "Accuracy on Test-Set: 8.9% (1125 / 12630)\n",
      "Example errors: \n"
     ]
    },
    {
     "data": {
      "image/png": "[encoded data removed]",
      "text/plain": [
       "<matplotlib.figure.Figure at 0x1d710f0d518>"
      ]
     },
     "metadata": {},
     "output_type": "display_data"
    },
    {
     "name": "stdout",
     "output_type": "stream",
     "text": [
      "Confusion Matrix:\n",
      "[ 0  0 57  0  0  0  0  0  0  0  0  0  0  0  0  0  0  0  0  0  0  0  0  2  0\n",
      "  0  1  0  0  0  0  0  0  0  0  0  0  0  0  0  0  0  0] (0) S L (20km/h)\n",
      "[  0   0 659   0   0   0   0   0   0   0   0   0   0   0   0   0   0   0\n",
      "   0   0   0   0   0   9   0   0  52   0   0   0   0   0   0   0   0   0\n",
      "   0   0   0   0   0   0   0] (1) S L (30km/h)\n",
      "[  0   3 692   0   0   0   0   0   0   0   0   0   0   0   0   0   0   0\n",
      "   0   0   0   0   0   8   0   0  47   0   0   0   0   0   0   0   0   0\n",
      "   0   0   0   0   0   0   0] (2) S L (50km/h)\n",
      "[  0   2 403   0   4   0   0   0   0   0   0   2   0   0   0   0   0   0\n",
      "   0   0   0   0   0   4   0   0  32   0   0   0   0   3   0   0   0   0\n",
      "   0   0   0   0   0   0   0] (3) S L (60km/h)\n",
      "[  0   7 601   0   5   0   0   0   0   4   0   0   0   1   0   0   0   0\n",
      "   0   0   0   0   0   8   0   0  33   0   0   0   0   0   0   0   0   0\n",
      "   0   0   0   0   1   0   0] (4) S L (70km/h)\n",
      "[  0   0 600   0   0   0   0   0   0   1   0   4   0   0   0   0   0   0\n",
      "   0   0   0   0   0   6   0   0  19   0   0   0   0   0   0   0   0   0\n",
      "   0   0   0   0   0   0   0] (5) S L (80km/h)\n",
      "[  0   0 147   0   0   0   0   0   0   0   0   2   0   0   0   0   0   0\n",
      "   0   0   0   0   0   0   0   0   1   0   0   0   0   0   0   0   0   0\n",
      "   0   0   0   0   0   0   0] (6) EOFS L (80km/h)\n",
      "[  0  14 423   0   3   0   0   0   0   5   0   0   0   0   0   0   0   0\n",
      "   0   0   0   0   0   1   0   0   4   0   0   0   0   0   0   0   0   0\n",
      "   0   0   0   0   0   0   0] (7) S L (100km/h)\n",
      "[  0   9 412   0   1   0   0   0   0  10   0   0   0   1   0   0   0   0\n",
      "   0   0   0   0   0   4   0   0  13   0   0   0   0   0   0   0   0   0\n",
      "   0   0   0   0   0   0   0] (8) S L (120km/h)\n",
      "[  0  21 364   0   1   0   0   0   0   5   0   2   0   5   0   0   0   0\n",
      "   0   0   0   0   0   5   0   0  77   0   0   0   0   0   0   0   0   0\n",
      "   0   0   0   0   0   0   0] (9) No psg\n",
      "[  0   4 599   0   2   0   0   0   0   3   0   4   0   0   0   0   0   0\n",
      "   0   0   0   0   0   1   0   0  47   0   0   0   0   0   0   0   0   0\n",
      "   0   0   0   0   0   0   0] (10) No psg for vhcls > 3.5T\n",
      "[  0   0 226   0   0   0   0   0   0   0   0   0   0   0   0   0   0   0\n",
      "   0   0   0   0   0  14   0   0 180   0   0   0   0   0   0   0   0   0\n",
      "   0   0   0   0   0   0   0] (11) ROFW at the nxt intersct\n",
      "[  0   0 458   0   0   0   0   0   0   4   0   0   0   5   0   0   0   0\n",
      "   0   0   0   0   0   3   0   0 220   0   0   0   0   0   0   0   0   0\n",
      "   0   0   0   0   0   0   0] (12) Priority road\n",
      "[  0   0 443   0   0   0   0   0   0   2   0   0   0 233   0   0   0   0\n",
      "   0   0   0   0   0   2   0   0  40   0   0   0   0   0   0   0   0   0\n",
      "   0   0   0   0   0   0   0] (13) Yield\n",
      "[  0   0 251   0   0   0   0   0   0   0   0   0   0   0   0   0   0   0\n",
      "   0   0   0   0   0   0   0   0  19   0   0   0   0   0   0   0   0   0\n",
      "   0   0   0   0   0   0   0] (14) Stop\n",
      "[  0   0 202   0   0   0   0   0   0   0   0   0   0   0   0   0   0   0\n",
      "   0   0   0   0   0   1   0   0   7   0   0   0   0   0   0   0   0   0\n",
      "   0   0   0   0   0   0   0] (15) No vhcls\n",
      "[  0   0 147   0   0   0   0   0   0   0   0   0   0   0   0   0   0   0\n",
      "   0   0   0   0   0   0   0   0   3   0   0   0   0   0   0   0   0   0\n",
      "   0   0   0   0   0   0   0] (16) veh > 3.5 T Prohib\n",
      "[  0   0 296   0   0   0   0   0   0  34   0   0   0   0   0   0   0   0\n",
      "   0   0   0   0   0   0   0   0  30   0   0   0   0   0   0   0   0   0\n",
      "   0   0   0   0   0   0   0] (17) No entry\n",
      "[  0   0 150   0   0   0   0   0   0   0   0   0   0   0   0   0   0   0\n",
      "   0   0   0   0   0   6   0   0 234   0   0   0   0   0   0   0   0   0\n",
      "   0   0   0   0   0   0   0] (18) General caution\n",
      "[ 0  0 14  0  0  0  0  0  0  0  0  0  0  0  0  0  0  0  0  0  0  0  0  9  0\n",
      "  0 37  0  0  0  0  0  0  0  0  0  0  0  0  0  0  0  0] (19) DGRS curve to the L\n",
      "[ 0  0 14  0  0  0  0  0  0  0  0  0  0  0  0  0  0  0  0  0  0  0  0  1  0\n",
      "  0 75  0  0  0  0  0  0  0  0  0  0  0  0  0  0  0  0] (20) DGRS curve to the R\n",
      "[ 0  0 20  0  0  0  0  0  0  0  0  0  0  0  0  0  0  0  0  0  0  0  0  5  0\n",
      "  0 65  0  0  0  0  0  0  0  0  0  0  0  0  0  0  0  0] (21) Double curve\n",
      "[ 0  0 11  0  0  0  0  0  0  0  0  6  0  0  0  0  0  0  0  0  0  0  0 17  0\n",
      "  0 86  0  0  0  0  0  0  0  0  0  0  0  0  0  0  0  0] (22) Bumpy road\n",
      "[ 0  0 61  0  0  0  0  0  0  0  0  0  0  0  0  0  0  0  0  0  0  0  0  8  0\n",
      "  0 81  0  0  0  0  0  0  0  0  0  0  0  0  0  0  0  0] (23) Slippery road\n",
      "[ 0  0 34  0  0  0  0  0  0  0  0  1  0  0  0  0  0  0  0  0  0  0  0  3  0\n",
      "  0 52  0  0  0  0  0  0  0  0  0  0  0  0  0  0  0  0] (24) Road narrows on the R\n",
      "[  0   0 132   0   0   0   0   0   0   0   0   3   0   0   0   0   0   0\n",
      "   0   0   0   0   0  13   0   0 332   0   0   0   0   0   0   0   0   0\n",
      "   0   0   0   0   0   0   0] (25) Road work\n",
      "[  0   0  33   0   0   0   0   0   0   0   0   0   0   0   0   0   0   0\n",
      "   0   0   0   0   0  17   0   0 130   0   0   0   0   0   0   0   0   0\n",
      "   0   0   0   0   0   0   0] (26) Traffic signals\n",
      "[ 0  0 12  0  0  0  0  0  0  0  0  4  0  0  0  0  0  0  0  0  0  0  0  2  0\n",
      "  0 42  0  0  0  0  0  0  0  0  0  0  0  0  0  0  0  0] (27) Pedestrians\n",
      "[ 0  0 69  0  0  0  0  0  0  0  0  0  0  0  0  0  0  0  0  0  0  0  0  6  0\n",
      "  0 74  0  0  0  0  0  0  0  0  1  0  0  0  0  0  0  0] (28) Children crsg\n",
      "[ 0  0 19  0  0  0  0  0  0  0  0  0  0  0  0  0  0  0  0  0  0  0  0  7  0\n",
      "  0 64  0  0  0  0  0  0  0  0  0  0  0  0  0  0  0  0] (29) Bicycles crsg\n",
      "[ 0  0 43  0  0  0  0  0  0  1  0  8  0  0  0  0  0  0  0  0  0  0  0 32  0\n",
      "  0 66  0  0  0  0  0  0  0  0  0  0  0  0  0  0  0  0] (30) Beware of ice/snow\n",
      "[  0   0  98   0   0   0   0   0   0   1   0   2   0   5   0   0   0   0\n",
      "   0   0   0   0   0  35   0   0 127   0   0   0   0   0   0   0   0   1\n",
      "   0   0   0   0   1   0   0] (31) Wild animals crsg\n",
      "[ 0  0 60  0  0  0  0  0  0  0  0  0  0  0  0  0  0  0  0  0  0  0  0  0  0\n",
      "  0  0  0  0  0  0  0  0  0  0  0  0  0  0  0  0  0  0] (32) EOF all speed & psg lim\n",
      "[  0   0  90   0   0   0   0   0   0   8   0   0   0   0   0   0   0   0\n",
      "   0   0   0   0   0   0   0   0   1   0   0   0   0   0   0   0   0   0\n",
      "   0   0   0   0 111   0   0] (33) Turn R ahead\n",
      "[ 0  0 24  0  0  0  0  0  0  1  0  0  0  0  0  0  0  0  0  0  0  0  0  0  0\n",
      "  0  0  0  0  0  0  0  0  0  0  0  0  0  0  0 95  0  0] (34) Turn L ahead\n",
      "[  0   3 127   0   3   0   0   0   0  30   0   4   0   0   0   0   0   0\n",
      "   0   0   0   0   0   2   0   0   0   0   0   0   0   0   0   0   0   0\n",
      "   0   0   0   0 221   0   0] (35) Ahead only\n",
      "[ 0  0 78  0  0  0  0  0  0  2  0  0  0  0  0  0  0  0  0  0  0  0  0  3  0\n",
      "  0  2  0  0  0  0  0  0  0  0  0  0  0  0  0 35  0  0] (36) Go straight or R\n",
      "[ 0  0 16  0  0  0  0  0  0  0  0  1  0  0  0  0  0  0  0  0  0  0  0  0  0\n",
      "  0  0  0  0  0  0  0  0  0  0  0  0  0  0  0 43  0  0] (37) Go straight or L\n",
      "[  0   0 350   0   0   0   0   0   0  18   0   6   0   0   0   0   0   0\n",
      "   0   0   0   0   0  43   0   0  10   0   0   0   0   0   0   0   0   0\n",
      "   0   0   0   0 263   0   0] (38) Keep R\n",
      "[ 0  0 11  0  0  0  0  0  0  0  0  0  0  0  0  0  0  0  0  0  0  0  0  3  0\n",
      "  0  2  0  0  0  0  0  0  0  0  0  0  0  0  0 74  0  0] (39) Keep L\n",
      "[ 0  0 13  0  0  0  0  0  0 24  0  1  0  0  0  0  0  0  0  0  0  0  0  0  0\n",
      "  0  0  0  0  0  0  0  0  0  0  0  0  0  0  0 52  0  0] (40) Roundabout mdatory\n",
      "[ 0  0 60  0  0  0  0  0  0  0  0  0  0  0  0  0  0  0  0  0  0  0  0  0  0\n",
      "  0  0  0  0  0  0  0  0  0  0  0  0  0  0  0  0  0  0] (41) EOF no psg\n",
      "[ 0  0 87  0  0  0  0  0  0  0  0  0  0  0  0  0  0  0  0  0  0  0  0  0  0\n",
      "  0  3  0  0  0  0  0  0  0  0  0  0  0  0  0  0  0  0] (42) EOF no psg by Veh > 3.5T\n",
      " (0) (1) (2) (3) (4) (5) (6) (7) (8) (9) (10) (11) (12) (13) (14) (15) (16) (17) (18) (19) (20) (21) (22) (23) (24) (25) (26) (27) (28) (29) (30) (31) (32) (33) (34) (35) (36) (37) (38) (39) (40) (41) (42)\n"
     ]
    }
   ],
   "source": [
    "print_test_accuracy(show_example_errors=True,\n",
    "                    show_confusion_matrix=True)"
   ]
  },
  {
   "cell_type": "markdown",
   "metadata": {},
   "source": [
    "# Convolutional Weights\n",
    "The following shows some of the weights (or filters) for the first convolutional layer. There are 3 input channels so there are 3 of these sets, which we may plot by changing the input_channel.\n",
    "\n",
    "Positive weights are red and negative weights are blue."
   ]
  },
  {
   "cell_type": "code",
   "execution_count": 61,
   "metadata": {
    "collapsed": false
   },
   "outputs": [
    {
     "name": "stdout",
     "output_type": "stream",
     "text": [
      "Min:   -0.61541, Max:   0.56400\n",
      "Mean:   0.00460, Stdev:   0.16517\n"
     ]
    },
    {
     "data": {
      "image/png": "[encoded data removed]",
      "text/plain": [
       "<matplotlib.figure.Figure at 0x1d707e2b668>"
      ]
     },
     "metadata": {},
     "output_type": "display_data"
    }
   ],
   "source": [
    "plot_conv_weights(weights=weights_conv1, input_channel=0)"
   ]
  },
  {
   "cell_type": "code",
   "execution_count": 62,
   "metadata": {
    "collapsed": false
   },
   "outputs": [
    {
     "name": "stdout",
     "output_type": "stream",
     "text": [
      "Min:   -0.20512, Max:   0.20510\n",
      "Mean:   -0.00634, Stdev:   0.04274\n"
     ]
    },
    {
     "data": {
      "image/png": "[encoded data removed]",
      "text/plain": [
       "<matplotlib.figure.Figure at 0x1d710ee9cc0>"
      ]
     },
     "metadata": {},
     "output_type": "display_data"
    }
   ],
   "source": [
    "plot_conv_weights(weights=weights_conv2, input_channel=1)"
   ]
  },
  {
   "cell_type": "markdown",
   "metadata": {},
   "source": [
    "Output of convolutional layers\n",
    "===================================\n",
    "Helper-function for plotting an image."
   ]
  },
  {
   "cell_type": "code",
   "execution_count": 64,
   "metadata": {
    "collapsed": true
   },
   "outputs": [],
   "source": [
    "def plot_image(image):\n",
    "    # Create figure with subplots.\n",
    "    \n",
    "    fig, axes = plt.subplots(1, 2)\n",
    "    \n",
    "    # References to the sub-plots.\n",
    "    ax0 = axes.flat[0]\n",
    "    ax1 = axes.flat[1]\n",
    "    \n",
    "    # Show raw and smoothened images in sub-plots.\n",
    "    ax0.imshow(image, interpolation='nearest')\n",
    "    ax1.imshow(image, interpolation='spline16')\n",
    "    \n",
    "    \n",
    "    # Set labels.\n",
    "    ax0.set_xlabel('Raw')\n",
    "    ax1.set_ylabel('Smooth')\n",
    "    \n",
    "    plt.show()"
   ]
  },
  {
   "cell_type": "code",
   "execution_count": 65,
   "metadata": {
    "collapsed": false
   },
   "outputs": [
    {
     "data": {
      "image/png": "[encoded data removed]",
      "text/plain": [
       "<matplotlib.figure.Figure at 0x1d710ea0f28>"
      ]
     },
     "metadata": {},
     "output_type": "display_data"
    }
   ],
   "source": [
    "# Plot an image from the test-set. The raw pixelated image is used as input to the ConvNet.\n",
    "img, cls = get_test_image(100)\n",
    "plot_image(img)"
   ]
  },
  {
   "cell_type": "markdown",
   "metadata": {},
   "source": [
    "Use the raw image as input to the neural network and plot the output of the first convolutional layer."
   ]
  },
  {
   "cell_type": "code",
   "execution_count": 66,
   "metadata": {
    "collapsed": false
   },
   "outputs": [
    {
     "data": {
      "image/png": "[encoded data removed]",
      "text/plain": [
       "<matplotlib.figure.Figure at 0x1d710f8eda0>"
      ]
     },
     "metadata": {},
     "output_type": "display_data"
    }
   ],
   "source": [
    "plot_layer_output(output_conv1, image=img)"
   ]
  },
  {
   "cell_type": "code",
   "execution_count": 67,
   "metadata": {
    "collapsed": false
   },
   "outputs": [
    {
     "data": {
      "image/png": "[encoded data removed]",
      "text/plain": [
       "<matplotlib.figure.Figure at 0x1d710ea0358>"
      ]
     },
     "metadata": {},
     "output_type": "display_data"
    }
   ],
   "source": [
    "plot_layer_output(output_conv2, image=img)"
   ]
  },
  {
   "cell_type": "markdown",
   "metadata": {},
   "source": [
    "Predicted class-labels\n",
    "================================\n",
    "Get the predicted class-label and class-number for this image."
   ]
  },
  {
   "cell_type": "code",
   "execution_count": 68,
   "metadata": {
    "collapsed": true
   },
   "outputs": [],
   "source": [
    "label_pred, cls_pred = session.run([y_pred, y_pred_cls],\n",
    "                                   feed_dict={x: [img]})"
   ]
  },
  {
   "cell_type": "code",
   "execution_count": 69,
   "metadata": {
    "collapsed": false
   },
   "outputs": [
    {
     "name": "stdout",
     "output_type": "stream",
     "text": [
      "[ 0.  0.  1.  0.  0.  0.  0.  0.  0.  0.  0.  0.  0.  0.  0.  0.  0.  0.\n",
      "  0.  0.  0.  0.  0.  0.  0.  0.  0.  0.  0.  0.  0.  0.  0.  0.  0.  0.\n",
      "  0.  0.  0.  0.  0.  0.  0.]\n"
     ]
    }
   ],
   "source": [
    "# Print the predicted class-label\n",
    "np.set_printoptions(precision=3, suppress=True)\n",
    "\n",
    "# Print the predicted label.\n",
    "print(label_pred[0])"
   ]
  },
  {
   "cell_type": "markdown",
   "metadata": {},
   "source": [
    "The predicted class-label is an array of length 43, with each element indicating how confident the neural network is that the image is the given class."
   ]
  },
  {
   "cell_type": "code",
   "execution_count": 70,
   "metadata": {
    "collapsed": false
   },
   "outputs": [
    {
     "data": {
      "text/plain": [
       "'S L (120km/h)'"
      ]
     },
     "execution_count": 70,
     "metadata": {},
     "output_type": "execute_result"
    }
   ],
   "source": [
    "signnames[8]"
   ]
  }
 ],
 "metadata": {
  "anaconda-cloud": {},
  "kernelspec": {
   "display_name": "Python [conda env:py3]",
   "language": "python",
   "name": "conda-env-py3-py"
  },
  "language_info": {
   "codemirror_mode": {
    "name": "ipython",
    "version": 3
   },
   "file_extension": ".py",
   "mimetype": "text/x-python",
   "name": "python",
   "nbconvert_exporter": "python",
   "pygments_lexer": "ipython3",
   "version": "3.5.2"
  }
 },
 "nbformat": 4,
 "nbformat_minor": 1
}
